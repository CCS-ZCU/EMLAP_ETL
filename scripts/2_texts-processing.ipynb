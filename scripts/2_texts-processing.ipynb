{
 "cells": [
  {
   "cell_type": "code",
   "execution_count": 21,
   "id": "initial_id",
   "metadata": {
    "ExecuteTime": {
     "end_time": "2024-05-16T13:06:55.469409Z",
     "start_time": "2024-05-16T13:06:55.465895Z"
    }
   },
   "outputs": [],
   "source": [
    "import spacy\n",
    "import os\n",
    "import glob\n",
    "from spacy.tokens import Doc\n",
    "from spacy.language import Language\n",
    "import pickle\n",
    "from unidecode import unidecode\n",
    "import sddk\n",
    "import pandas as pd\n",
    "import re\n",
    "import sys\n",
    "import importlib\n",
    "import json"
   ]
  },
  {
   "cell_type": "markdown",
   "id": "b9ab689c-5afb-4288-b505-b7cdbac55f0b",
   "metadata": {},
   "source": [
    "For preprocessing the latin texts, we will use a module located outside of the current repository, specifically at the same level one level up.\n",
    "\n",
    "The module can be clonned from here: https://github.com/CCS-ZCU/latin-preprocessing and imported to python following the steps below:"
   ]
  },
  {
   "cell_type": "code",
   "execution_count": 2,
   "id": "53ebed9fd954db5d",
   "metadata": {
    "ExecuteTime": {
     "end_time": "2024-05-16T13:06:56.493801Z",
     "start_time": "2024-05-16T13:06:55.757006Z"
    }
   },
   "outputs": [
    {
     "name": "stdout",
     "output_type": "stream",
     "text": [
      "CuPy is able to use the GPU.\n",
      "GPU is available for SpaCy.\n"
     ]
    }
   ],
   "source": [
    "# for preprocessing the latin texts, we will use a module located outside of the current repository, specifically at the same level \n",
    "current_working_directory = os.getcwd()\n",
    "relative_path = '../../latin-preprocessing/' # change according to your location...\n",
    "module_path = os.path.abspath(os.path.join(current_working_directory, relative_path))\n",
    "if module_path not in sys.path:\n",
    "    sys.path.insert(0, module_path)\n",
    "# Now import the module\n",
    "import tomela"
   ]
  },
  {
   "cell_type": "markdown",
   "id": "96cf6331-de6f-4a97-b1a3-f4bb7edc19ee",
   "metadata": {},
   "source": [
    "Tomela contains tuned latin preprocessing pipeline relying on spaCy and latinCy. You can check the pipeline as here:"
   ]
  },
  {
   "cell_type": "code",
   "execution_count": 3,
   "id": "45d27e00-6297-4057-84f6-8c5ed478c9b7",
   "metadata": {},
   "outputs": [
    {
     "data": {
      "text/plain": [
       "[('senter', <spacy.pipeline.senter.SentenceRecognizer at 0x7c2e4ff563e0>),\n",
       " ('normer', <function la_core_web_lg.functions.normer(doc)>),\n",
       " ('tok2vec', <spacy.pipeline.tok2vec.Tok2Vec at 0x7c2e4ff56560>),\n",
       " ('tagger', <spacy.pipeline.tagger.Tagger at 0x7c2e4ff56620>),\n",
       " ('morphologizer',\n",
       "  <spacy.pipeline.morphologizer.Morphologizer at 0x7c2e4ff54b20>),\n",
       " ('trainable_lemmatizer',\n",
       "  <spacy.pipeline.edit_tree_lemmatizer.EditTreeLemmatizer at 0x7c2e4ff54d00>),\n",
       " ('parser', <spacy.pipeline.dep_parser.DependencyParser at 0x7c2e5ef4b7d0>),\n",
       " ('lookup_lemmatizer',\n",
       "  <function la_core_web_lg.functions.make_lookup_lemmatizer_function(doc)>),\n",
       " ('ner', <spacy.pipeline.ner.EntityRecognizer at 0x7c2e45fe8200>)]"
      ]
     },
     "execution_count": 3,
     "metadata": {},
     "output_type": "execute_result"
    }
   ],
   "source": [
    "tomela.nlp.pipeline"
   ]
  },
  {
   "cell_type": "code",
   "execution_count": 4,
   "id": "29fc5b42-a235-4e5a-bb73-9682ad83b676",
   "metadata": {},
   "outputs": [
    {
     "name": "stdout",
     "output_type": "stream",
     "text": [
      "('Veritas', 'ueritas', 'NOUN')\n",
      "(',', ',', 'PUNCT')\n",
      "('vt', 'vt', 'ADV')\n",
      "('vlla', 'vllus', 'NOUN')\n",
      "('dicit', 'dico', 'VERB')\n",
      "(',', ',', 'PUNCT')\n",
      "('semper', 'semper', 'ADV')\n",
      "('est', 'sum', 'AUX')\n",
      "('universalis', 'uniuersalis', 'ADJ')\n",
      "('et', 'et', 'CCONJ')\n",
      "('a', 'ab', 'ADP')\n",
      "('principiis', 'principium', 'NOUN')\n",
      "('fundamentalis', 'fundamentalis', 'ADJ')\n",
      "('oritur', 'orior', 'VERB')\n",
      "('(', '(', 'PUNCT')\n",
      "('lib', 'liber', 'NOUN')\n",
      "('.', '.', 'PUNCT')\n",
      "('3', '3', 'NUM')\n",
      "(',', ',', 'PUNCT')\n",
      "('cap', 'capitulum', 'NOUN')\n",
      "('.', '.', 'PUNCT')\n",
      "('VI', 'uis', 'NUM')\n",
      "(')', ')', 'PUNCT')\n"
     ]
    }
   ],
   "source": [
    "doc = tomela.nlp(\"Veritas, vt vlla dicit, semper est universalis et a principiis fundamentalis oritur (lib. 3, cap. VI)\")\n",
    "for token in doc:\n",
    "    print((token.text, token.lemma_, token.pos_))"
   ]
  },
  {
   "cell_type": "code",
   "execution_count": 5,
   "id": "1fb248a662f853a6",
   "metadata": {
    "ExecuteTime": {
     "end_time": "2024-05-16T13:06:56.498422Z",
     "start_time": "2024-05-16T13:06:56.494837Z"
    }
   },
   "outputs": [
    {
     "data": {
      "text/plain": [
       "['100005_Pantheus1530_Voarchadumia_ONB',\n",
       " '100048_Pseudo-Aquinas1579_Secreta_alchemiae_magnalia_ONB',\n",
       " '100034_Penotus1594_Tractatus_varii_MDZ_MBS',\n",
       " '100029_Paracelsus1560_Libri_quatuor_de_vita_longa_MDZ_MBS',\n",
       " '100039_Pseudo-Democritus1572_Ars_magna_MDZ_MBS']"
      ]
     },
     "execution_count": 5,
     "metadata": {},
     "output_type": "execute_result"
    }
   ],
   "source": [
    "# list files in the right folder\n",
    "path = \"/srv/data/tome/tome-corpus/tome_2-0/tome 2.0\"\n",
    "filedirs = os.listdir(path)\n",
    "filedirs[:5]"
   ]
  },
  {
   "cell_type": "code",
   "execution_count": 42,
   "id": "50c0389f28241cf7",
   "metadata": {
    "ExecuteTime": {
     "end_time": "2024-05-16T13:06:56.505638Z",
     "start_time": "2024-05-16T13:06:56.499215Z"
    }
   },
   "outputs": [
    {
     "data": {
      "text/plain": [
       "[('100005',\n",
       "  '/srv/data/tome/tome-corpus/tome_2-0/tome 2.0/100005_Pantheus1530_Voarchadumia_ONB/100005_Pantheus1530_Voarchadumia_ONB.txt'),\n",
       " ('100048',\n",
       "  '/srv/data/tome/tome-corpus/tome_2-0/tome 2.0/100048_Pseudo-Aquinas1579_Secreta_alchemiae_magnalia_ONB/100048_Pseudo-Aquinas1579_Secreta_alchemiae_magnalia_ONB.txt'),\n",
       " ('100034',\n",
       "  '/srv/data/tome/tome-corpus/tome_2-0/tome 2.0/100034_Penotus1594_Tractatus_varii_MDZ_MBS/100034_Penotus1594_Tractatus_varii_MDZ_MBS.txt'),\n",
       " ('100029',\n",
       "  '/srv/data/tome/tome-corpus/tome_2-0/tome 2.0/100029_Paracelsus1560_Libri_quatuor_de_vita_longa_MDZ_MBS/100029_Paracelsus1560_Libri_quatuor_de_vita_longa_MDZ_MBS.txt'),\n",
       " ('100039',\n",
       "  '/srv/data/tome/tome-corpus/tome_2-0/tome 2.0/100039_Pseudo-Democritus1572_Ars_magna_MDZ_MBS/100039_Pseudo-Democritus1572_Ars_magna_MDZ_MBS.txt')]"
      ]
     },
     "execution_count": 42,
     "metadata": {},
     "output_type": "execute_result"
    }
   ],
   "source": [
    "fns = [(dirpath.partition(\"_\")[0], fn) for dirpath in filedirs for fn in glob.glob(os.path.join(path, dirpath, '*.txt'))]\n",
    "fns[:5]"
   ]
  },
  {
   "cell_type": "code",
   "execution_count": 43,
   "id": "fc05a1bee814424d",
   "metadata": {
    "ExecuteTime": {
     "end_time": "2024-05-16T13:06:56.589140Z",
     "start_time": "2024-05-16T13:06:56.581040Z"
    }
   },
   "outputs": [
    {
     "data": {
      "text/plain": [
       "\"MARIA\\n\\n\\nAVLA PVRIFICATIONIS AVRI\\nNON SINE SALE & NON SINE ARGILLA\\nVOARCH ¬\\nADVMIA\\ncontra Alchi'miam : Ars distincta ab\\nArchimi'a, & Sophia: cum Additio¬\\nnibus & Proportionibus: Numeris: &\\nFiguris oportubit Ioannis Augustini\\nPanthei Veneti sacerdotis.\\nVenetiis. Diebus. Aprilis.\\nM. D. XXX.\\n\\n\\nMORIENVS\\n\\n\\nCONCESSIO IMPRESSIONIS.\\nConcessio Reuerendissimi. D. Legati apostolici.\\nALTOBELLVS AVEROL¬\\nDVS Dei & apostolicae sedis gratia\\nEpiscopus Polen. S. D. N. Papae Re¬\\nferen. & per totum Venetorum domi¬\\nnium, cum potestate Legati Cardina¬\\nIlis de latere, Legatus apostolicus. Dile¬\\ncto nobis in CHRISTO Ioanni Augustino Pantheo\\nVeneto sacerdoti, salutem in domino sempiternam: & caetera.\\nMandamus igitur & praecipimus authoritate apostolica,\\nqua ex munere legationis nostrae huiusmodi fungimur in\\nhac parte: ne quis legationi nostrae subiectus: id ipsum\\nopusculum siue Latina, siue Vernacula lingua perscriptum:\\nin locis legationis nostrae huiusmodi imprimere, aut im¬\\npressum uenundare, uendendumue trad\""
      ]
     },
     "execution_count": 43,
     "metadata": {},
     "output_type": "execute_result"
    }
   ],
   "source": [
    "# test loading one specific text\n",
    "fn = fns[0][1]\n",
    "with open(fn, \"r\", encoding=\"utf-8\") as f:\n",
    "    rawtext = f.read()\n",
    "rawtext[:1000]"
   ]
  },
  {
   "cell_type": "code",
   "execution_count": 14,
   "id": "3dae60a8-0ebc-4e5a-8ffa-1679aafccf0e",
   "metadata": {},
   "outputs": [
    {
     "name": "stdout",
     "output_type": "stream",
     "text": [
      "CuPy is able to use the GPU.\n",
      "GPU is available for SpaCy.\n"
     ]
    },
    {
     "data": {
      "text/plain": [
       "<module 'tomela' from '/home/jupyter-vojta/notebooks/latin-preprocessing/tomela/__init__.py'>"
      ]
     },
     "execution_count": 14,
     "metadata": {},
     "output_type": "execute_result"
    }
   ],
   "source": [
    "# in case you locally tune the module, ensure that you have loaded the latest version!\n",
    "importlib.reload(tomela)"
   ]
  },
  {
   "cell_type": "code",
   "execution_count": 15,
   "id": "28319370bd842188",
   "metadata": {
    "ExecuteTime": {
     "end_time": "2024-05-16T13:06:59.955639Z",
     "start_time": "2024-05-16T13:06:59.832436Z"
    }
   },
   "outputs": [
    {
     "data": {
      "text/plain": [
       "\"Maria Aula Purificationis Auri Non Sine Sale & Non Sine Argilla Uoarch Adumia contra Alchi'miam : Ars distincta ab Archimi'a, & Sophia: cum Additionibus & Proportionibus: Numeris: & Figuris oportubit Ioannis Augustini Panthei Ueneti sacerdotis. Uenetiis. Diebus. Aprilis. M. D. Xxx. Morienus Concessio Impressionis. Concessio Reuerendissimi. D. Legati apostolici. Altobellus Aueroldus Dei & apostolicae sedis gratia Episcopus Polen. S. D. N. Papae Referen, & per totum Uenetorum dominium, cum potestate Legati Cardinailis de latere, Legatus apostolicus. Dilecto nobis in Christo Ioanni Augustino Pantheo Ueneto sacerdoti, salutem in domino sempiternam: & caetera. Mandamus igitur & praecipimus authoritate apostolica, qua ex munere legationis nostrae huiusmodi fungimur in hac parte: ne quis legationi nostrae subiectus: id ipsum opusculum siue Latina, siue Uernacula lingua perscriptum: in locis legationis nostrae huiusmodi imprimere, aut impressum uenundare, uendendumue tradere ullis in locis aliquando audeat: sine tuo, uel haeredum tuorum consensu, & concessione. Qui contra Mandatum hoc nostrum fecerit, & admiserit: quibuscunque in locis legationis praedictae id fecerit: is statim Excommunicatus esto: & praeterea Centum ducatorum auri poena multetur. Quorum Uigintiquinque Accusatori, qui etiam secretus tenebitur: Uigintiquinque Tibi dannum patienti: cum quibusuis codicibus huiusmodi impressis: Uigintiquinque Executori, siue ecclesiastico, siue saeculari per te eligendo: & reliqui Uigintiquinque A 11 [m]clausula Bullae.[/m] 62 Concessio Impressionis. Hospitali pauperum incurabilium Ciuitatis Uenetiarum applicentur. Data: & cetera. A. Episcopus Polen. Legatus. Robertus Magius Le. de Magistris. Concesso Clarisimorum D. Capitum Ilustissimi consili Decemurum pro impressione huius operis. Infra Scripti Cla. D. Capita Illustrissimi Consilii. X. Uisis, & optime intellectis relationibus infrascriptis datis cum iuramento .d. Antonii de Fantis: & D. Uictoris Fausti doctorum: super quodam opere composito per Uenerabilem. D. loannem Augustinum Pantheum Uenetum, circa metallicas transmutationes, concesserunt eidem. D. Ioanni Augustino: & ita presentis serie concedunt, & permittunt : ut possit imprimere opus antedictum, & ita iusserunt annotari. D. Hieronymus Lauredanus. D. Hieronymus Barbadicus, Capita: & extera. An. de Franciscis Ilustrissimi Consilii. X. a Secretis: Dedicatio Operis. 3 Andreae Griti Illustriss. Uenetorum Principi, Ioanes Augustinus Pantheus Ucnetus sacerdos, Imperium foelix, ac diuturnum. Summus ille Opifex rerum, cuius sapientiae non est terminus, omnipotentia sua, hominem homini conciliat ad uitae societatem. Haec autem societas & congregatio, Ciuitas & Respublica nun- cupatur. Ciuitas autem omnis & si naturali communique totius populi consensu, & Iustitiae robore confletur & conseruetur, Uenetorum tamen Ciuitas Sancta, praecipua quadam diuini Numinis prouidentia, ex multarum circunquamque urbium optimatibus, saeuitiam & immanitatem Atilae totam tunc deuastantis Italiam, confugientibus (ceu quondam per arcam Noc a diluuio paucis seruatis) primum hunc in locum, ut infra (anno Christi Iesu primo & uigesimo supra quadrigentesimum, octauo Calendas Aprilis: in hora & in angulo meridici) sita est & congregata. Deinde quaquam uariis bellorum turbinibus agitata sit saepius ac uexata: diuina tamen ope semper adiuta, tantum creuit, ut & omnium aliarum rerumpublicarum (quaecunque fama celebrentur) nullius prorsus indigeat. Nam dici non potest quam rectis sapientissimorum Principum consiliis, quam fortibus factis, quam sanctis Patrum A iii [m] Ber. Iustinia ni de origine urbis Uenetorum in pricipio c. Sita erat riualta.[/m] 3 Dedicatio Operis. institutis fundata: indies melius ac foelicius propagata fuerit. Quum ergo dominus aeternus uniuersalis supernus: per quem Reges regnant, & Principes imperant: Te Serenissime, Inuictissimeque Princeps, post multas Legationes, & praeclaros Magistratus sapienter exactos: post illustre simul & foelix Ueneti exercitus imperium & moderamen: demumque post uarios maris ac terrae labores, & libenter susceptos, & gloriose superatos: huic optimae Reipublicae Principem, Moderatorem, patriaeque Patrem merito praefecerit: ut Unus esses, qui populum Uenetum, & subditas Ciuitates, in tanto bellorum tumultu, tanta famis, pestisque miseria nonnihil titubantes: tua prudentia, tuaque animi magnitudine: ueluti Hercules caelum non solum modo susciperes, & consolareris: uerum etiam tuereris, & conseruares. Quis igitur tam impos mentis extiterit, qui non Te merito cunctis uerum Patrem, & Defensorem praedicet? non instar excelsi Numinis ueneretur? Quum praesertim Is sis, qui subuenias omnibus, omnibus prosis, omnium commodo consulas, & saluti. Nam quis nesciat bonum Principem non tantum sibi, sed suae Reipublicae, suis Ciuibus, suis denique Populis natum esse. Dum seditiosos, ac discordes opprimit: superbos, ac rebelles castigat: humiles, & studiosos erigit, ac extollit. Nam profecto societatis humanae uin\""
      ]
     },
     "execution_count": 15,
     "metadata": {},
     "output_type": "execute_result"
    }
   ],
   "source": [
    "tomela.text_cleaner(rawtext)[:5000]"
   ]
  },
  {
   "cell_type": "code",
   "execution_count": 16,
   "id": "859d4e80322cc7ca",
   "metadata": {
    "ExecuteTime": {
     "end_time": "2024-05-16T13:07:43.467561Z",
     "start_time": "2024-05-16T13:07:03.267884Z"
    }
   },
   "outputs": [],
   "source": [
    "doc = tomela.from_rawtext_to_doc(rawtext, lowertext=False)"
   ]
  },
  {
   "cell_type": "code",
   "execution_count": 77,
   "id": "2910233d5aa1363d",
   "metadata": {
    "ExecuteTime": {
     "end_time": "2024-05-16T13:07:48.895312Z",
     "start_time": "2024-05-16T13:07:48.893981Z"
    }
   },
   "outputs": [],
   "source": []
  },
  {
   "cell_type": "code",
   "execution_count": 17,
   "id": "d719bb543aac71d9",
   "metadata": {
    "ExecuteTime": {
     "end_time": "2024-05-16T13:07:48.898452Z",
     "start_time": "2024-05-16T13:07:48.896687Z"
    }
   },
   "outputs": [],
   "source": [
    "target_path = \"/srv/data/tome/tome-corpus/sents_data_jsons_v2-0/\"\n",
    "try:\n",
    "    os.mkdir(target_path)\n",
    "except:\n",
    "    pass"
   ]
  },
  {
   "cell_type": "code",
   "execution_count": 44,
   "id": "f764e15ed80ca465",
   "metadata": {
    "ExecuteTime": {
     "end_time": "2024-05-16T13:15:55.588078Z",
     "start_time": "2024-05-16T13:07:48.899282Z"
    }
   },
   "outputs": [
    {
     "name": "stdout",
     "output_type": "stream",
     "text": [
      "CPU times: user 2min 47s, sys: 7.81 s, total: 2min 55s\n",
      "Wall time: 2min 54s\n"
     ]
    }
   ],
   "source": [
    "%%time\n",
    "for id, fn in fns:\n",
    "    with open(fn, \"r\", encoding=\"utf-8\") as f:\n",
    "        rawtext = f.read()\n",
    "    doc = tomela.from_rawtext_to_doc(rawtext)\n",
    "    doc_sentdata = [(sent.text, [(t.text, t.lemma_, t.pos_, (t.idx - sent[0].idx, t.idx - sent[0].idx + len(t))) for t in sent]) for sent in doc.sents]\n",
    "    sent_data_updated = []\n",
    "    for n_sent, sent_data in enumerate(doc_sentdata):\n",
    "        sent_data_updated.append((id, n_sent, sent_data[0], sent_data[1]))\n",
    "    with open(target_path + id + \".json\", \"w\") as f:\n",
    "        json.dump(sent_data_updated, f)"
   ]
  },
  {
   "cell_type": "code",
   "execution_count": 34,
   "id": "ddd9bd27845f6fe1",
   "metadata": {
    "ExecuteTime": {
     "end_time": "2024-05-15T17:46:59.560936Z",
     "start_time": "2024-05-15T17:46:59.558909Z"
    }
   },
   "outputs": [],
   "source": [
    "# Extract the lemmatized sentences"
   ]
  },
  {
   "cell_type": "code",
   "execution_count": 45,
   "id": "4e0d6adc6fd12a58",
   "metadata": {
    "ExecuteTime": {
     "end_time": "2024-05-16T13:17:53.241584Z",
     "start_time": "2024-05-16T13:17:53.237849Z"
    }
   },
   "outputs": [
    {
     "data": {
      "text/plain": [
       "['100044.json',\n",
       " '100034.json',\n",
       " '100014.json',\n",
       " '100060.json',\n",
       " '100010.json',\n",
       " '100043.json',\n",
       " '100041.json',\n",
       " '100012.json',\n",
       " '100025.json',\n",
       " '100019.json']"
      ]
     },
     "execution_count": 45,
     "metadata": {},
     "output_type": "execute_result"
    }
   ],
   "source": [
    "fns_jsons = os.listdir(target_path)\n",
    "fns_jsons[:10]"
   ]
  },
  {
   "cell_type": "code",
   "execution_count": 46,
   "id": "afc8c8c709bb68de",
   "metadata": {
    "ExecuteTime": {
     "end_time": "2024-05-16T13:17:54.298016Z",
     "start_time": "2024-05-16T13:17:53.613933Z"
    }
   },
   "outputs": [
    {
     "data": {
      "text/plain": [
       "[['100010',\n",
       "  100,\n",
       "  'Et eodem libro, cap. 3, scripsimus, eum, qui non habuerit ingenium naturale, & animum, ingeniose & subtiliter perscrutantem principia naturalia, & naturae fundamenta, & artificia, quae naturam assequi possint, in suae actionis proprietatibus, non inuenturum huius preciosissimae artis & magisterii ueram radicem.',\n",
       "  [['Et', 'et', 'CCONJ', [0, 2]],\n",
       "   ['eodem', 'idem', 'DET', [3, 8]],\n",
       "   ['libro', 'liber', 'NOUN', [9, 14]],\n",
       "   [',', ',', 'PUNCT', [14, 15]],\n",
       "   ['cap', 'capitulum', 'NOUN', [16, 19]],\n",
       "   ['.', '.', 'PUNCT', [19, 20]],\n",
       "   ['3', '3', 'NUM', [21, 22]],\n",
       "   [',', ',', 'PUNCT', [22, 23]],\n",
       "   ['scripsimus', 'scribo', 'VERB', [24, 34]],\n",
       "   [',', ',', 'PUNCT', [34, 35]],\n",
       "   ['eum', 'is', 'PRON', [36, 39]],\n",
       "   [',', ',', 'PUNCT', [39, 40]],\n",
       "   ['qui', 'qui', 'PRON', [41, 44]],\n",
       "   ['non', 'non', 'PART', [45, 48]],\n",
       "   ['habuerit', 'habeo', 'VERB', [49, 57]],\n",
       "   ['ingenium', 'ingenium', 'NOUN', [58, 66]],\n",
       "   ['naturale', 'naturalis', 'ADJ', [67, 75]],\n",
       "   [',', ',', 'PUNCT', [75, 76]],\n",
       "   ['&', '&', 'PUNCT', [77, 78]],\n",
       "   ['animum', 'animus', 'NOUN', [79, 85]],\n",
       "   [',', ',', 'PUNCT', [85, 86]],\n",
       "   ['ingeniose', 'ingeniose', 'ADV', [87, 96]],\n",
       "   ['&', '&', 'PUNCT', [97, 98]],\n",
       "   ['subtiliter', 'subtiliter', 'ADV', [99, 109]],\n",
       "   ['perscrutantem', 'perscrutor', 'VERB', [110, 123]],\n",
       "   ['principia', 'principium', 'NOUN', [124, 133]],\n",
       "   ['naturalia', 'naturalis', 'ADJ', [134, 143]],\n",
       "   [',', ',', 'PUNCT', [143, 144]],\n",
       "   ['&', '&', 'PUNCT', [145, 146]],\n",
       "   ['naturae', 'natura', 'NOUN', [147, 154]],\n",
       "   ['fundamenta', 'fundamentum', 'NOUN', [155, 165]],\n",
       "   [',', ',', 'PUNCT', [165, 166]],\n",
       "   ['&', '&', 'PUNCT', [167, 168]],\n",
       "   ['artificia', 'artificium', 'ADJ', [169, 178]],\n",
       "   [',', ',', 'PUNCT', [178, 179]],\n",
       "   ['quae', 'qui', 'PRON', [180, 184]],\n",
       "   ['naturam', 'natura', 'NOUN', [185, 192]],\n",
       "   ['assequi', 'assequor', 'VERB', [193, 200]],\n",
       "   ['possint', 'possum', 'VERB', [201, 208]],\n",
       "   [',', ',', 'PUNCT', [208, 209]],\n",
       "   ['in', 'in', 'ADP', [210, 212]],\n",
       "   ['suae', 'suus', 'DET', [213, 217]],\n",
       "   ['actionis', 'actio', 'NOUN', [218, 226]],\n",
       "   ['proprietatibus', 'proprietas', 'NOUN', [227, 241]],\n",
       "   [',', ',', 'PUNCT', [241, 242]],\n",
       "   ['non', 'non', 'PART', [243, 246]],\n",
       "   ['inuenturum', 'inuenio', 'VERB', [247, 257]],\n",
       "   ['huius', 'hic', 'DET', [258, 263]],\n",
       "   ['preciosissimae', 'preciosis', 'ADJ', [264, 278]],\n",
       "   ['artis', 'ars', 'NOUN', [279, 284]],\n",
       "   ['&', '&', 'PUNCT', [285, 286]],\n",
       "   ['magisterii', 'magisterium', 'NOUN', [287, 297]],\n",
       "   ['ueram', 'uerus', 'ADJ', [298, 303]],\n",
       "   ['radicem', 'radix', 'NOUN', [304, 311]],\n",
       "   ['.', '.', 'PUNCT', [311, 312]]]],\n",
       " ['100010',\n",
       "  101,\n",
       "  'Dlligenter igitur considerandum, principiorum naturalium metallorum, tres esse differentias.',\n",
       "  [['Dlligenter', 'dlligenter', 'ADV', [0, 10]],\n",
       "   ['igitur', 'igitur', 'PART', [11, 17]],\n",
       "   ['considerandum', 'considero', 'VERB', [18, 31]],\n",
       "   [',', ',', 'PUNCT', [31, 32]],\n",
       "   ['principiorum', 'principium', 'NOUN', [33, 45]],\n",
       "   ['naturalium', 'naturalis', 'ADJ', [46, 56]],\n",
       "   ['metallorum', 'metallum', 'NOUN', [57, 67]],\n",
       "   [',', ',', 'PUNCT', [67, 68]],\n",
       "   ['tres', 'tres', 'NUM', [69, 73]],\n",
       "   ['esse', 'sum', 'AUX', [74, 78]],\n",
       "   ['differentias', 'differentia', 'NOUN', [79, 91]],\n",
       "   ['.', '.', 'PUNCT', [91, 92]]]],\n",
       " ['100010',\n",
       "  102,\n",
       "  'Sunt enim, quaedam remotissima, alia remota, & media mineralia, & tertia differentia immediatorum.',\n",
       "  [['Sunt', 'sum', 'AUX', [0, 4]],\n",
       "   ['enim', 'enim', 'PART', [5, 9]],\n",
       "   [',', ',', 'PUNCT', [9, 10]],\n",
       "   ['quaedam', 'quidam', 'DET', [11, 18]],\n",
       "   ['remotissima', 'remotissimus', 'ADJ', [19, 30]],\n",
       "   [',', ',', 'PUNCT', [30, 31]],\n",
       "   ['alia', 'alius', 'DET', [32, 36]],\n",
       "   ['remota', 'remotus', 'VERB', [37, 43]],\n",
       "   [',', ',', 'PUNCT', [43, 44]],\n",
       "   ['&', '&', 'PUNCT', [45, 46]],\n",
       "   ['media', 'medius', 'ADJ', [47, 52]],\n",
       "   ['mineralia', 'mineralis', 'ADJ', [53, 62]],\n",
       "   [',', ',', 'PUNCT', [62, 63]],\n",
       "   ['&', '&', 'PUNCT', [64, 65]],\n",
       "   ['tertia', 'tertius', 'ADJ', [66, 72]],\n",
       "   ['differentia', 'differentia', 'NOUN', [73, 84]],\n",
       "   ['immediatorum', 'immediatus', 'ADJ', [85, 97]],\n",
       "   ['.', '.', 'PUNCT', [97, 98]]]]]"
      ]
     },
     "execution_count": 46,
     "metadata": {},
     "output_type": "execute_result"
    }
   ],
   "source": [
    "sents_data = json.load(open(target_path + fns_jsons[4], \"r\"))\n",
    "sents_data[100:103]"
   ]
  },
  {
   "cell_type": "code",
   "execution_count": 47,
   "id": "18544dfbab3826df",
   "metadata": {
    "ExecuteTime": {
     "end_time": "2024-05-16T13:17:54.304363Z",
     "start_time": "2024-05-16T13:17:54.302304Z"
    }
   },
   "outputs": [],
   "source": [
    "lemmatized_sents_path = \"/srv/data/tome/tome-corpus/lemmatized_sents_v2-0/\"\n",
    "try:\n",
    "    os.mkdir(lemmatized_sents_path)\n",
    "except:\n",
    "    pass"
   ]
  },
  {
   "cell_type": "code",
   "execution_count": 49,
   "id": "de0fdc525a9c32",
   "metadata": {
    "ExecuteTime": {
     "end_time": "2024-05-16T13:17:55.771361Z",
     "start_time": "2024-05-16T13:17:54.668309Z"
    }
   },
   "outputs": [],
   "source": [
    "\n",
    "for fn in fns_jsons:\n",
    "    lemmatized_sents = []\n",
    "    sents_data = json.load(open(target_path + fn, \"rb\"))\n",
    "    for (doc_id, sent_id, sent_text, sent_data) in sents_data:\n",
    "        lemmasent = []\n",
    "        for wordform, lemma, tag, position in sent_data:\n",
    "            if tag in [\"NOUN\", \"PROPN\", \"ADJ\", \"VERB\"]:\n",
    "                lemmasent.append(lemma)\n",
    "        lemmatized_sents.append(\" \".join(lemmasent) + \"\\n\")\n",
    "    with open(lemmatized_sents_path + fn.replace(\".json\", \".txt\"), \"w\", encoding=\"utf-8\") as f:\n",
    "        f.writelines(lemmatized_sents)"
   ]
  },
  {
   "cell_type": "code",
   "execution_count": null,
   "id": "346555ec22c661ae",
   "metadata": {},
   "outputs": [],
   "source": []
  }
 ],
 "metadata": {
  "kernelspec": {
   "display_name": "latin_global_kernel",
   "language": "python",
   "name": "latin_global_kernel"
  },
  "language_info": {
   "codemirror_mode": {
    "name": "ipython",
    "version": 3
   },
   "file_extension": ".py",
   "mimetype": "text/x-python",
   "name": "python",
   "nbconvert_exporter": "python",
   "pygments_lexer": "ipython3",
   "version": "3.10.12"
  }
 },
 "nbformat": 4,
 "nbformat_minor": 5
}
