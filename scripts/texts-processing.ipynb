{
 "cells": [
  {
   "cell_type": "code",
   "id": "initial_id",
   "metadata": {
    "collapsed": true,
    "ExecuteTime": {
     "end_time": "2024-05-15T17:20:22.711122Z",
     "start_time": "2024-05-15T17:20:22.707766Z"
    }
   },
   "source": [
    "import spacy\n",
    "import os\n",
    "import glob\n",
    "from spacy.tokens import Doc\n",
    "from spacy.language import Language\n",
    "import pickle\n",
    "import sddk\n",
    "import pandas as pd\n",
    "import re"
   ],
   "outputs": [],
   "execution_count": 28
  },
  {
   "metadata": {
    "ExecuteTime": {
     "end_time": "2024-05-15T17:01:33.829630Z",
     "start_time": "2024-05-15T17:01:32.828043Z"
    }
   },
   "cell_type": "code",
   "source": [
    "# for the following to work the model has to be previously installed:\n",
    "# !pip install https://huggingface.co/latincy/la_core_web_lg/resolve/main/la_core_web_lg-any-py3-none-any.whl\n",
    "\n",
    "nlp = spacy.load('la_core_web_lg') "
   ],
   "id": "53ebed9fd954db5d",
   "outputs": [],
   "execution_count": 2
  },
  {
   "metadata": {
    "ExecuteTime": {
     "end_time": "2024-05-15T17:04:52.299335Z",
     "start_time": "2024-05-15T17:04:52.296136Z"
    }
   },
   "cell_type": "code",
   "source": [
    "# list files in the right folder\n",
    "path = \"../data/large_data/Curated transcriptions/\"\n",
    "filedirs = os.listdir(path)\n",
    "filedirs[:5]"
   ],
   "id": "1fb248a662f853a6",
   "outputs": [
    {
     "data": {
      "text/plain": [
       "['100037_DuChesne1575_Ad_Iacobi_Auberti_MDZ_Augsburg',\n",
       " '100035_Dorn1570_Lapis_metaphysicus_MDZ_MBS_pdf',\n",
       " '100027_Morienus1559_Morieni_Romani_IA_pdf',\n",
       " '100012_Gessner1552_Thesaurus_Euonymi_Philiatri_ER_ZZ',\n",
       " '100029_Paracelsus1560_Libri_quatuor_de_vita_longa_MDZ_MBS']"
      ]
     },
     "execution_count": 9,
     "metadata": {},
     "output_type": "execute_result"
    }
   ],
   "execution_count": 9
  },
  {
   "metadata": {
    "ExecuteTime": {
     "end_time": "2024-05-15T17:11:22.690360Z",
     "start_time": "2024-05-15T17:11:22.683139Z"
    }
   },
   "cell_type": "code",
   "source": [
    "fns = [(dirpath.partition(\"_\")[0], fn) for dirpath in filedirs for fn in glob.glob(os.path.join(path, dirpath, '*.txt'))]\n",
    "fns[:5]"
   ],
   "id": "50c0389f28241cf7",
   "outputs": [
    {
     "data": {
      "text/plain": [
       "[('100037',\n",
       "  '../data/large_data/Curated transcriptions/100037_DuChesne1575_Ad_Iacobi_Auberti_MDZ_Augsburg/DuChesne1575_Ad_Iacobi_Auberti_MDZ_Augsburg.txt'),\n",
       " ('100035',\n",
       "  '../data/large_data/Curated transcriptions/100035_Dorn1570_Lapis_metaphysicus_MDZ_MBS_pdf/Dorn1570_Lapis_metaphysicus_MDZ_MBS_pdf.txt'),\n",
       " ('100027',\n",
       "  '../data/large_data/Curated transcriptions/100027_Morienus1559_Morieni_Romani_IA_pdf/Morienus1559_Morieni_Romani_IA_pdf.txt'),\n",
       " ('100012',\n",
       "  '../data/large_data/Curated transcriptions/100012_Gessner1552_Thesaurus_Euonymi_Philiatri_ER_ZZ/Gessner1552_Thesaurus_Euonymi_Philiatri_ER_ZZ.txt'),\n",
       " ('100029',\n",
       "  '../data/large_data/Curated transcriptions/100029_Paracelsus1560_Libri_quatuor_de_vita_longa_MDZ_MBS/Paracelsus1560_Libri_quatuor_de_vita_longa_MDZ_MBS.txt')]"
      ]
     },
     "execution_count": 19,
     "metadata": {},
     "output_type": "execute_result"
    }
   ],
   "execution_count": 19
  },
  {
   "metadata": {
    "ExecuteTime": {
     "end_time": "2024-05-15T17:20:47.291282Z",
     "start_time": "2024-05-15T17:20:47.284408Z"
    }
   },
   "cell_type": "code",
   "source": [
    "# test loading one specific text\n",
    "fn = fns[0][1]\n",
    "with open(fn, \"r\") as f:\n",
    "    text = f.read()\n",
    "text[:5000]\n"
   ],
   "id": "fc05a1bee814424d",
   "outputs": [
    {
     "data": {
      "text/plain": [
       "\"AD IACOBI\\nAVBERTI VINDO¬\\nNIS DE ORTV ET CAVSIS\\nMETALLORVM CONTRA\\nChymicos Explicationem\\nIOSEPHI QVERCETANI ARME¬\\nniaci, D. Medici breuis Responsio.\\nEIVSDEM DE EXQVISITA\\nMineralium, Animalium, & Vegetabilium me¬\\ndicamentorum Spagyrica praeparatione &\\nvsu, perspicua Tractatio.\\nLVGDVNI,\\nApud loannem Lertotium.\\nM. D. LXXV.\\n\\n\\nQVADRIN.\\n[F] En nostre estat au vostre tout contraire,\\nSi nous soufflons, vous humez d'autrepart:\\nOr sus enfans, de ces deux poincts de l'art,\\nIugez lequel est plus seant de faire. [/F]\\nVIRTVTIS COMES\\nINVIDIA.\\n\\n\\nGENEROSIS.\\nSIMO AC SPLENDI¬\\ndissimo viro Jacobo de la\\nFin, Regii ordinis Equiti\\nAurato, eiusque Nobili\\ncubiculario, D. de la Fin la¬\\nNocle, Pluuiers, Baroni\\nd Aubusson, &c. Josephus\\nQuercetanus. S.\\nMemoriae proditum est,\\nPythagoram, hominum\\nvitam dixisse consimi¬\\nlem sibi videri eius Pa¬\\nnegyris ac mercatus Graeciae no¬\\nbilissimi, quò nonnulli certandi,\\nalij emendi & vendendi, alij ve¬\\nrò spectandi tantùm causa se con¬\\nferebant: Philosophos autem eos esse\\nA. ij.\\n\\n\\nEPISTOLA.\\nqui neque plausum & coronam, ne¬\\nque quaestum & lucrum sectaren¬\\ntur, sed studiosè naturam rerum in¬\\ntuentes, vim illius effectricem ac¬\\ncuratè animaduerterent. Quod Phi¬\\nlosophandi meditandíque studium\\ntantis laudibus sapientes prisci ex¬\\ntulerunt, vt eorum animos qui se to¬\\ntos huic disciplinae consecrarent,\\nquasi diuinos, atque à terrestrium\\nrerum contagione & humilitate ad\\nvitam prope coelestem sublatos ad¬\\nmirarentur, colerent, summísque\\nhonoribus prosequerentur. Quippe\\nquòd illorum studia vel propter v¬\\ntilitatem, vitae opportunissima, vel\\npropter incredibilem oblectationem\\niucundissima esse statuerent. Qua\\nde causa Plato tum demum pre¬\\nclarè cum rebus humanis actum\\niri aiebat, quum vel Philosophi reg¬\\nnarent, vel Reges philosopharen¬\\ntur.\\n\\n\\nEPISTOLA.\\ntur. Quàm igitur dissimilis huius\\nnostri seculi ratio! imò verò quàm\\nfoeda labes ac macula quum ij qui se\\ntotos ad res Naturae perscrutandas,\\narcanáque illius cognoscenda addi¬\\nxerunt, à plerisque non modò san¬\\nnis & dicteriis exagitantur, verùm\\netiam de medio tollendi iudican¬\\ntur. Ex istiusmodi hominum cater¬\\nua, Aubertus, nescio quis, nuper in\\nmedium prodiit, qui quorum neque\\nindustriam imitari, neque foelicita¬\\ntem assequi potuit, eos his epithetis\\nCarbonariorum, Ciniflonum, Fumi¬\\nuororum ornauit: & iisdem contu¬\\nmeliis summum illum abstrusioris\\nPhilosophiae parentem, Albertum\\nMagnum, insectatus est, atque in illam\\nnon minùs vetustam; quàm recon¬\\nditam Physices partem (quae vulgò\\nAlchymia nuncupatur) multa est\\ndebacchatus; omnesque etiam enis\\nA. iij.\\n\\n\\nEPISTOLA.\\nstudiosos propè luce indignos exi¬\\nstimat: quum tamen illa, non modo\\npropter innumera ad vitam huma¬\\nnam tuendam remedia, quibus abun¬\\ndat, in pretio sit, sed etiam clarissi¬\\nmorum & doctissimorum scriptis\\ncomprobata. Quorum alij, maiorum\\nmemoria, praeclara generi humano\\nmunera ex illius diuinae artis myste¬\\nriis prodiderunt: alij hoc seculo, ni¬\\nhil quod ad illorum imitandam vir,\\ntutem, ad vitam humanam sustinen¬\\ndam & morbos depellendos perti¬\\nneat, praetermittunt. Et sane ars illa\\neiusmodi est, qualem tot iíque Do¬\\nctissimi descripserunt. Neque vero\\nilli macula vlla propter Sophistarum\\n& praestigiatorum inscitiam & im¬\\nprobitatem inurenda est; quum\\nmultos olim Philosophiae clarissi¬\\nmum nomen professos esse constet,\\nqui istius artis magnitudine & dig¬\\nnitate\\n\\n\\nEPISTOLA.\\nnitate illecti, communem viuendi\\nrationem contempserunt. Sed ad\\nAubertum redeo, qui haud scio,\\nan cum quoquam meliùs compara¬\\nrari possit, quàm cum illo Phormio¬\\nne, qui cùm de re militari coram Han¬\\nnibale disseruisset, ad extremum elo¬\\ngio illo notatus ab ipso dicitur: Mul¬\\ntos se deliros senes vidisse, sed qui\\nmagis quàm ille deliraret, neminem.\\nQuid enim inscitius, quid denique\\nineptius quàm ea de re vel in mag¬\\nnon hominum conuentu disserere, vel\\nin publicum libellos edere, quam ti¬\\nbi neque disciplina neque vllo v¬\\nsu notam esse fateare? Vt autem hanc\\nartem omnium pulcherrimam ab\\nistius qualiscunque hominis con¬\\ntumeliis vindicarem, perutile mi¬\\nhi visum est, libellum hunc ad il¬\\nlius dignitatem tuendam emittere,\\n& huius argumenta qualiacunque\\nA. iiij\\n\\n\\nEPISTOLA.\\nsunt oppugnare. Quum autem, vir\\nGenerosissime animaduerterem, te\\nsummo ingenio praeditum, & ex il¬\\nlustri genere natum; inter arma e¬\\nducatum, magnísque Regiis & Prin¬\\ncipum nostrorum negotiis obeun¬\\ndis occupatum: huius tamen nostrae\\nartis studiosum esse, optimum factu\\niudicaui hunc meum libellum sub\\ntuo clarissimo nomine praelo com¬\\nmittere: tum vt iudicium meum, quod\\nde animi tui magnitudine & doti¬\\nbus fero, praedicarem: tum vt ex no¬\\nminis tui splendore aliquam meo la¬\\nbori dignitatem compararem. Quem\\nsi tibi, tuíque similibus, ingenio &\\nnobilitate praestantibus gratum esse\\nintellexero; dabo operam ne meo er¬\\nga hanc antiquissimam artem stu¬\\ndio defuisse videar. Vale; & nos vt\\nsoles, ama. Cal. April. 1575.\\nODEL¬\\n\\n\\n[F] ODELETE DE L' AV¬\\nTHEVR, A MESSIRE IA¬\\nques de la Fin, Cheualier de l’ordre du Roy, &\\nGentil- homme de la chambre de sa Maiesté, Sei¬\\ngneur de l\""
      ]
     },
     "execution_count": 29,
     "metadata": {},
     "output_type": "execute_result"
    }
   ],
   "execution_count": 29
  },
  {
   "metadata": {
    "ExecuteTime": {
     "end_time": "2024-05-15T17:18:14.061775Z",
     "start_time": "2024-05-15T17:18:14.055071Z"
    }
   },
   "cell_type": "code",
   "source": [
    "def text_cleaner(rawtext):\n",
    "    cleantext = rawtext.replace(\"¬\\n\", \"\").replace(\"\\n\", \" \").replace(\"ß\", \"ss\").replace(\"ij\",\"ii\")\n",
    "    cleantext = \" \".join([t[0] + t[1:].lower() for t in cleantext.split()])\n",
    "    cleantext = re.sub(\"\\s\\s+\", \" \", cleantext)\n",
    "    return cleantext\n",
    "\n",
    "# lets encapsulate the cleaning and spacy pipeline application into one function\n",
    "def from_rawtext_to_doc(rawtext):\n",
    "    cleantext = text_cleaner(rawtext)\n",
    "    segment_len = 800000\n",
    "    if len(cleantext) > segment_len:\n",
    "        segment_docs = []\n",
    "        parts = cleantext[:segment_len].rpartition(\". \")\n",
    "        current_segment = parts[0] + parts[1]\n",
    "        segment_doc = nlp(current_segment)\n",
    "        segment_docs.append(segment_doc)\n",
    "        next_segment_beginning = parts[2]\n",
    "        for n in range(segment_len, len(cleantext), segment_len):\n",
    "            segment = cleantext[n:n+segment_len]\n",
    "            if len(segment) == segment_len:\n",
    "                parts = cleantext[n:n+segment_len].rpartition(\". \")\n",
    "                current_segment = parts[0] + parts[1]\n",
    "                segment_doc = nlp(next_segment_beginning + current_segment)\n",
    "                next_segment_beginning = parts[2]\n",
    "            else:\n",
    "                segment_doc = nlp(segment)\n",
    "            segment_docs.append(segment_doc)\n",
    "        doc = Doc.from_docs(segment_docs)\n",
    "    else:\n",
    "        doc = nlp(cleantext)\n",
    "    return doc"
   ],
   "id": "7aab18d7da1677ba",
   "outputs": [],
   "execution_count": 26
  },
  {
   "metadata": {
    "ExecuteTime": {
     "end_time": "2024-05-15T17:21:13.515809Z",
     "start_time": "2024-05-15T17:21:13.507531Z"
    }
   },
   "cell_type": "code",
   "source": "text_cleaner(rawtext)[:5000]",
   "id": "28319370bd842188",
   "outputs": [
    {
     "data": {
      "text/plain": [
       "\"Ad Iacobi Avberti Vindonis De Ortv Et Cavsis Metallorvm Contra Chymicos Explicationem Iosephi Qvercetani Armeniaci, D. Medici breuis Responsio. Eivsdem De Exqvisita Mineralium, Animalium, & Vegetabilium medicamentorum Spagyrica praeparatione & vsu, perspicua Tractatio. Lvgdvni, Apud loannem Lertotium. M. D. Lxxv. Qvadrin. [f] En nostre estat au vostre tout contraire, Si nous soufflons, vous humez d'autrepart: Or sus enfans, de ces deux poincts de l'art, Iugez lequel est plus seant de faire. [/f] Virtvtis Comes Invidia. Generosis. Simo Ac Splendidissimo viro Jacobo de la Fin, Regii ordinis Equiti Aurato, eiusque Nobili cubiculario, D. de la Fin lanocle, Pluuiers, Baroni d Aubusson, &c. Josephus Quercetanus. S. Memoriae proditum est, Pythagoram, hominum vitam dixisse consimilem sibi videri eius Panegyris ac mercatus Graeciae nobilissimi, quò nonnulli certandi, alii emendi & vendendi, alii verò spectandi tantùm causa se conferebant: Philosophos autem eos esse A. ii. Epistola. qui neque plausum & coronam, neque quaestum & lucrum sectarentur, sed studiosè naturam rerum intuentes, vim illius effectricem accuratè animaduerterent. Quod Philosophandi meditandíque studium tantis laudibus sapientes prisci extulerunt, vt eorum animos qui se totos huic disciplinae consecrarent, quasi diuinos, atque à terrestrium rerum contagione & humilitate ad vitam prope coelestem sublatos admirarentur, colerent, summísque honoribus prosequerentur. Quippe quòd illorum studia vel propter vtilitatem, vitae opportunissima, vel propter incredibilem oblectationem iucundissima esse statuerent. Qua de causa Plato tum demum preclarè cum rebus humanis actum iri aiebat, quum vel Philosophi regnarent, vel Reges philosopharentur. Epistola. tur. Quàm igitur dissimilis huius nostri seculi ratio! imò verò quàm foeda labes ac macula quum ii qui se totos ad res Naturae perscrutandas, arcanáque illius cognoscenda addixerunt, à plerisque non modò sannis & dicteriis exagitantur, verùm etiam de medio tollendi iudicantur. Ex istiusmodi hominum caterua, Aubertus, nescio quis, nuper in medium prodiit, qui quorum neque industriam imitari, neque foelicitatem assequi potuit, eos his epithetis Carbonariorum, Ciniflonum, Fumiuororum ornauit: & iisdem contumeliis summum illum abstrusioris Philosophiae parentem, Albertum Magnum, insectatus est, atque in illam non minùs vetustam; quàm reconditam Physices partem (quae vulgò Alchymia nuncupatur) multa est debacchatus; omnesque etiam enis A. iii. Epistola. studiosos propè luce indignos existimat: quum tamen illa, non modo propter innumera ad vitam humanam tuendam remedia, quibus abundat, in pretio sit, sed etiam clarissimorum & doctissimorum scriptis comprobata. Quorum alii, maiorum memoria, praeclara generi humano munera ex illius diuinae artis mysteriis prodiderunt: alii hoc seculo, nihil quod ad illorum imitandam vir, tutem, ad vitam humanam sustinendam & morbos depellendos pertineat, praetermittunt. Et sane ars illa eiusmodi est, qualem tot iíque Doctissimi descripserunt. Neque vero illi macula vlla propter Sophistarum & praestigiatorum inscitiam & improbitatem inurenda est; quum multos olim Philosophiae clarissimum nomen professos esse constet, qui istius artis magnitudine & dignitate Epistola. nitate illecti, communem viuendi rationem contempserunt. Sed ad Aubertum redeo, qui haud scio, an cum quoquam meliùs compararari possit, quàm cum illo Phormione, qui cùm de re militari coram Hannibale disseruisset, ad extremum elogio illo notatus ab ipso dicitur: Multos se deliros senes vidisse, sed qui magis quàm ille deliraret, neminem. Quid enim inscitius, quid denique ineptius quàm ea de re vel in magnon hominum conuentu disserere, vel in publicum libellos edere, quam tibi neque disciplina neque vllo vsu notam esse fateare? Vt autem hanc artem omnium pulcherrimam ab istius qualiscunque hominis contumeliis vindicarem, perutile mihi visum est, libellum hunc ad illius dignitatem tuendam emittere, & huius argumenta qualiacunque A. iiii Epistola. sunt oppugnare. Quum autem, vir Generosissime animaduerterem, te summo ingenio praeditum, & ex illustri genere natum; inter arma educatum, magnísque Regiis & Principum nostrorum negotiis obeundis occupatum: huius tamen nostrae artis studiosum esse, optimum factu iudicaui hunc meum libellum sub tuo clarissimo nomine praelo committere: tum vt iudicium meum, quod de animi tui magnitudine & dotibus fero, praedicarem: tum vt ex nominis tui splendore aliquam meo labori dignitatem compararem. Quem si tibi, tuíque similibus, ingenio & nobilitate praestantibus gratum esse intellexero; dabo operam ne meo erga hanc antiquissimam artem studio defuisse videar. Vale; & nos vt soles, ama. Cal. April. 1575. Odel [f] Odelete De L' Avthevr, A Messire Iaques de la Fin, Cheualier de l’ordre du Roy, & Gentil- homme de la chambre de sa Maiesté, Seigneur de la Fin la Nocle, &c. A toy qui as dés ta ieunesse Sur le double mont de Permesse Beu dans la fontaine au cheual: Qui as auectes chansons belles Mené c\""
      ]
     },
     "execution_count": 30,
     "metadata": {},
     "output_type": "execute_result"
    }
   ],
   "execution_count": 30
  },
  {
   "metadata": {
    "ExecuteTime": {
     "end_time": "2024-05-15T17:18:21.854448Z",
     "start_time": "2024-05-15T17:18:16.702568Z"
    }
   },
   "cell_type": "code",
   "source": [
    "# testing spacy...\n",
    "fn = fns[0][1]\n",
    "with open(fn, \"r\") as f:\n",
    "    rawtext = f.read()\n",
    "doc = from_rawtext_to_doc(rawtext)"
   ],
   "id": "b2f4e5956ff1ebce",
   "outputs": [],
   "execution_count": 27
  },
  {
   "metadata": {},
   "cell_type": "code",
   "outputs": [],
   "execution_count": null,
   "source": "",
   "id": "2910233d5aa1363d"
  },
  {
   "metadata": {
    "ExecuteTime": {
     "end_time": "2024-05-15T17:23:55.117625Z",
     "start_time": "2024-05-15T17:23:55.112679Z"
    }
   },
   "cell_type": "code",
   "source": [
    "try:\n",
    "    os.mkdir(\"../data/sents_data\")\n",
    "except:\n",
    "    pass"
   ],
   "id": "d719bb543aac71d9",
   "outputs": [],
   "execution_count": 31
  },
  {
   "metadata": {
    "ExecuteTime": {
     "end_time": "2024-05-15T17:33:01.354507Z",
     "start_time": "2024-05-15T17:25:25.534763Z"
    }
   },
   "cell_type": "code",
   "source": [
    "%%time\n",
    "for id, fn in fns:\n",
    "    with open(fn, \"r\") as f:\n",
    "        rawtext = f.read()\n",
    "    doc = from_rawtext_to_doc(rawtext)\n",
    "    doc_sentdata = [(sent.text, [(t.text, t.lemma_.lower(), t.pos_, (t.idx - sent[0].idx, t.idx - sent[0].idx + len(t))) for t in sent]) for sent in doc.sents]\n",
    "    with open(\"../data/sents_data/\" + id + \".pickle\", \"wb\") as f:\n",
    "        pickle.dump(doc_sentdata, f)"
   ],
   "id": "f764e15ed80ca465",
   "outputs": [
    {
     "name": "stdout",
     "output_type": "stream",
     "text": [
      "CPU times: user 7min 13s, sys: 15.8 s, total: 7min 28s\n",
      "Wall time: 7min 35s\n"
     ]
    }
   ],
   "execution_count": 33
  },
  {
   "metadata": {
    "ExecuteTime": {
     "end_time": "2024-05-15T17:46:59.560936Z",
     "start_time": "2024-05-15T17:46:59.558909Z"
    }
   },
   "cell_type": "code",
   "source": "# Extract the lemmatized sentences",
   "id": "ddd9bd27845f6fe1",
   "outputs": [],
   "execution_count": 34
  },
  {
   "metadata": {},
   "cell_type": "code",
   "outputs": [],
   "execution_count": null,
   "source": [
    "fns = os.listdir(\"../data/sents_data/\")\n",
    "fns[:5]"
   ],
   "id": "4e0d6adc6fd12a58"
  },
  {
   "metadata": {},
   "cell_type": "code",
   "outputs": [],
   "execution_count": null,
   "source": [
    "try:\n",
    "    os.mkdir(\"../data/lemmatized_sents/\")\n",
    "except:\n",
    "    pass\n",
    "for fn in fns:\n",
    "    lemmatized_sents = []\n",
    "    sents_data = pickle.load(open(\"../data/sents_data/\" + fn, \"rb\"))\n",
    "    for (sent_text, sent_data) in sents_data:\n",
    "        lemmasent = []\n",
    "        for wordform, lemma, tag, position in sent_data:\n",
    "            if tag in [\"NOUN\", \"PROPN\", \"ADJ\", \"VERB\"]:\n",
    "                lemmasent.append(lemma)\n",
    "        lemmatized_sents.append(\" \".join(lemmasent) + \"\\n\")\n",
    "    with open(\"../data/lemmatized_sents/\" + fn.replace(\".pickle\", \".txt\"), \"w\") as f:\n",
    "        f.writelines(lemmatized_sents)"
   ],
   "id": "de0fdc525a9c32"
  }
 ],
 "metadata": {
  "kernelspec": {
   "display_name": "brewkernel",
   "language": "python",
   "name": "brewkernel"
  },
  "language_info": {
   "codemirror_mode": {
    "name": "ipython",
    "version": 2
   },
   "file_extension": ".py",
   "mimetype": "text/x-python",
   "name": "python",
   "nbconvert_exporter": "python",
   "pygments_lexer": "ipython2",
   "version": "2.7.6"
  }
 },
 "nbformat": 4,
 "nbformat_minor": 5
}
