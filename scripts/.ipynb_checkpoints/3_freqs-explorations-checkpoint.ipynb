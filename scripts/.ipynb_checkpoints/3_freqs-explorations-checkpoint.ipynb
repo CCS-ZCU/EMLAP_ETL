{
 "cells": [
  {
   "cell_type": "code",
   "execution_count": 1,
   "id": "initial_id",
   "metadata": {
    "ExecuteTime": {
     "end_time": "2024-12-02T20:38:23.477393Z",
     "start_time": "2024-12-02T20:38:22.597777Z"
    },
    "collapsed": true,
    "jupyter": {
     "outputs_hidden": true
    }
   },
   "outputs": [],
   "source": [
    "import pandas as pd\n",
    "import pickle\n",
    "import glob\n",
    "import os\n",
    "import nltk\n",
    "from sklearn.feature_extraction.text import TfidfVectorizer"
   ]
  },
  {
   "cell_type": "code",
   "execution_count": 2,
   "id": "f3d2501c555eb71e",
   "metadata": {
    "ExecuteTime": {
     "end_time": "2024-12-02T20:38:45.709810Z",
     "start_time": "2024-12-02T20:38:45.686632Z"
    }
   },
   "outputs": [
    {
     "data": {
      "text/html": [
       "<div>\n",
       "<style scoped>\n",
       "    .dataframe tbody tr th:only-of-type {\n",
       "        vertical-align: middle;\n",
       "    }\n",
       "\n",
       "    .dataframe tbody tr th {\n",
       "        vertical-align: top;\n",
       "    }\n",
       "\n",
       "    .dataframe thead th {\n",
       "        text-align: right;\n",
       "    }\n",
       "</style>\n",
       "<table border=\"1\" class=\"dataframe\">\n",
       "  <thead>\n",
       "    <tr style=\"text-align: right;\">\n",
       "      <th>Unnamed: 0</th>\n",
       "      <th>No.</th>\n",
       "      <th>is_noscemus</th>\n",
       "      <th>if_noscemus_id</th>\n",
       "      <th>#if is_noscemus = True, don't transcribe</th>\n",
       "      <th>AUTHORSHIP</th>\n",
       "      <th>is_one_author</th>\n",
       "      <th>#if more than 1 author skip section and choose compendium below</th>\n",
       "      <th>is_author_known</th>\n",
       "      <th>author_name</th>\n",
       "      <th>author_name_alternatives</th>\n",
       "      <th>...</th>\n",
       "      <th>genre</th>\n",
       "      <th>subject</th>\n",
       "      <th>SOURCE OF FILE</th>\n",
       "      <th>link</th>\n",
       "      <th>source_of_file</th>\n",
       "      <th>origin_of_copy</th>\n",
       "      <th>REFERENCES</th>\n",
       "      <th>catalogue_reference</th>\n",
       "      <th>secondary_references</th>\n",
       "      <th>general_comments</th>\n",
       "    </tr>\n",
       "  </thead>\n",
       "  <tbody>\n",
       "    <tr>\n",
       "      <th>Augurello, Chrysopoeia</th>\n",
       "      <td>100001</td>\n",
       "      <td>TRUE</td>\n",
       "      <td>713324</td>\n",
       "      <td>NaN</td>\n",
       "      <td>NaN</td>\n",
       "      <td>TRUE</td>\n",
       "      <td>NaN</td>\n",
       "      <td>TRUE</td>\n",
       "      <td>Augurelli, Giovanni Aurelio</td>\n",
       "      <td>Augurellus</td>\n",
       "      <td>...</td>\n",
       "      <td>Didactic Poem</td>\n",
       "      <td>alchemy</td>\n",
       "      <td>NaN</td>\n",
       "      <td>https://wiki.uibk.ac.at/noscemus/Chrysopoeia</td>\n",
       "      <td>Noscemus</td>\n",
       "      <td>Unknown</td>\n",
       "      <td>NaN</td>\n",
       "      <td>Noscemus Wiki</td>\n",
       "      <td>Soranzo 2019</td>\n",
       "      <td>The 1518 Basel version is also in Noscemus</td>\n",
       "    </tr>\n",
       "    <tr>\n",
       "      <th>Pseudo-Lull, Secretis</th>\n",
       "      <td>100002</td>\n",
       "      <td>FALSE</td>\n",
       "      <td>NaN</td>\n",
       "      <td>NaN</td>\n",
       "      <td>NaN</td>\n",
       "      <td>TRUE</td>\n",
       "      <td>NaN</td>\n",
       "      <td>TRUE</td>\n",
       "      <td>Pseudo-Lull</td>\n",
       "      <td>NaN</td>\n",
       "      <td>...</td>\n",
       "      <td>Treatise</td>\n",
       "      <td>NaN</td>\n",
       "      <td>NaN</td>\n",
       "      <td>https://www.digitale-sammlungen.de/en/view/bsb...</td>\n",
       "      <td>MDZ</td>\n",
       "      <td>MBS</td>\n",
       "      <td>NaN</td>\n",
       "      <td>Hirsch 1950</td>\n",
       "      <td>NaN</td>\n",
       "      <td>There is a prior, 1514 edition of De secretis ...</td>\n",
       "    </tr>\n",
       "    <tr>\n",
       "      <th>Pantheus, Ars Transmutatione</th>\n",
       "      <td>100003</td>\n",
       "      <td>FALSE</td>\n",
       "      <td>NaN</td>\n",
       "      <td>NaN</td>\n",
       "      <td>NaN</td>\n",
       "      <td>TRUE</td>\n",
       "      <td>NaN</td>\n",
       "      <td>TRUE</td>\n",
       "      <td>Panteo, Giovanni Agostino</td>\n",
       "      <td>Pantheus</td>\n",
       "      <td>...</td>\n",
       "      <td>Treatise</td>\n",
       "      <td>NaN</td>\n",
       "      <td>NaN</td>\n",
       "      <td>NaN</td>\n",
       "      <td>GB</td>\n",
       "      <td>BL</td>\n",
       "      <td>NaN</td>\n",
       "      <td>NaN</td>\n",
       "      <td>NaN</td>\n",
       "      <td>This book was first published in 1518 with an ...</td>\n",
       "    </tr>\n",
       "    <tr>\n",
       "      <th>Pantheus, Commentarium</th>\n",
       "      <td>100004</td>\n",
       "      <td>FALSE</td>\n",
       "      <td>NaN</td>\n",
       "      <td>NaN</td>\n",
       "      <td>NaN</td>\n",
       "      <td>TRUE</td>\n",
       "      <td>NaN</td>\n",
       "      <td>TRUE</td>\n",
       "      <td>Panteo, Giovanni Agostino</td>\n",
       "      <td>Pantheus</td>\n",
       "      <td>...</td>\n",
       "      <td>Treatise</td>\n",
       "      <td>alchemy</td>\n",
       "      <td>NaN</td>\n",
       "      <td>https://www.digitale-sammlungen.de/en/view/bsb...</td>\n",
       "      <td>MDZ</td>\n",
       "      <td>MSB</td>\n",
       "      <td>NaN</td>\n",
       "      <td>NaN</td>\n",
       "      <td>NaN</td>\n",
       "      <td>This 1519 book is catalogued wrongly by many l...</td>\n",
       "    </tr>\n",
       "    <tr>\n",
       "      <th>Pantheus, Voarchadumia</th>\n",
       "      <td>100005</td>\n",
       "      <td>FALSE</td>\n",
       "      <td>NaN</td>\n",
       "      <td>NaN</td>\n",
       "      <td>NaN</td>\n",
       "      <td>TRUE</td>\n",
       "      <td>NaN</td>\n",
       "      <td>TRUE</td>\n",
       "      <td>Panteo, Giovanni Agostino</td>\n",
       "      <td>Pantheus</td>\n",
       "      <td>...</td>\n",
       "      <td>Treatise</td>\n",
       "      <td>NaN</td>\n",
       "      <td>NaN</td>\n",
       "      <td>NaN</td>\n",
       "      <td>ONB</td>\n",
       "      <td>ONB</td>\n",
       "      <td>NaN</td>\n",
       "      <td>NaN</td>\n",
       "      <td>NaN</td>\n",
       "      <td>Dedicated to Leonellus Marquis of Estense</td>\n",
       "    </tr>\n",
       "    <tr>\n",
       "      <th>Savonarola, De arte conficiendi aquam vitae</th>\n",
       "      <td>100006</td>\n",
       "      <td>FALSE</td>\n",
       "      <td>NaN</td>\n",
       "      <td>NaN</td>\n",
       "      <td>NaN</td>\n",
       "      <td>TRUE</td>\n",
       "      <td>NaN</td>\n",
       "      <td>TRUE</td>\n",
       "      <td>Savonarola, Michele</td>\n",
       "      <td>NaN</td>\n",
       "      <td>...</td>\n",
       "      <td>Treatise</td>\n",
       "      <td>NaN</td>\n",
       "      <td>NaN</td>\n",
       "      <td>https://onb.digital/result/1088C33C</td>\n",
       "      <td>ONB</td>\n",
       "      <td>ONB</td>\n",
       "      <td>NaN</td>\n",
       "      <td>Hirsch 1950</td>\n",
       "      <td>NaN</td>\n",
       "      <td>NaN</td>\n",
       "    </tr>\n",
       "    <tr>\n",
       "      <th>Anon, Rosarium philosophorum</th>\n",
       "      <td>100007</td>\n",
       "      <td>FALSE</td>\n",
       "      <td>NaN</td>\n",
       "      <td>NaN</td>\n",
       "      <td>NaN</td>\n",
       "      <td>FALSE</td>\n",
       "      <td>NaN</td>\n",
       "      <td>FALSE</td>\n",
       "      <td>NaN</td>\n",
       "      <td>NaN</td>\n",
       "      <td>...</td>\n",
       "      <td>treatise</td>\n",
       "      <td>alchemy</td>\n",
       "      <td>NaN</td>\n",
       "      <td>NaN</td>\n",
       "      <td>ER</td>\n",
       "      <td>ZZ</td>\n",
       "      <td>NaN</td>\n",
       "      <td>NaN</td>\n",
       "      <td>NaN</td>\n",
       "      <td>NaN</td>\n",
       "    </tr>\n",
       "    <tr>\n",
       "      <th>Severinus, Epistola</th>\n",
       "      <td>100008</td>\n",
       "      <td>FALSE</td>\n",
       "      <td>NaN</td>\n",
       "      <td>NaN</td>\n",
       "      <td>NaN</td>\n",
       "      <td>TRUE</td>\n",
       "      <td>NaN</td>\n",
       "      <td>TRUE</td>\n",
       "      <td>Severinus, Petrus</td>\n",
       "      <td>Peder Sorensen</td>\n",
       "      <td>...</td>\n",
       "      <td>treatise</td>\n",
       "      <td>NaN</td>\n",
       "      <td>NaN</td>\n",
       "      <td>NaN</td>\n",
       "      <td>MDZ</td>\n",
       "      <td>MBS</td>\n",
       "      <td>NaN</td>\n",
       "      <td>NaN</td>\n",
       "      <td>NaN</td>\n",
       "      <td>NaN</td>\n",
       "    </tr>\n",
       "    <tr>\n",
       "      <th>Vegius, Inter inferiora corpora</th>\n",
       "      <td>100009</td>\n",
       "      <td>FALSE</td>\n",
       "      <td>NaN</td>\n",
       "      <td>NaN</td>\n",
       "      <td>NaN</td>\n",
       "      <td>FALSE</td>\n",
       "      <td>NaN</td>\n",
       "      <td>FALSE</td>\n",
       "      <td>NaN</td>\n",
       "      <td>NaN</td>\n",
       "      <td>...</td>\n",
       "      <td>Treatise, Dialogue, Play</td>\n",
       "      <td>NaN</td>\n",
       "      <td>NaN</td>\n",
       "      <td>http://data.onb.ac.at/rep/1099703B</td>\n",
       "      <td>ONB</td>\n",
       "      <td>ONB</td>\n",
       "      <td>NaN</td>\n",
       "      <td>Hirsch 1950</td>\n",
       "      <td>NaN</td>\n",
       "      <td>This is the second edition, the first was publ...</td>\n",
       "    </tr>\n",
       "    <tr>\n",
       "      <th>Bracesco, De alchimia dialogi duo</th>\n",
       "      <td>100010</td>\n",
       "      <td>FALSE</td>\n",
       "      <td>NaN</td>\n",
       "      <td>NaN</td>\n",
       "      <td>NaN</td>\n",
       "      <td>TRUE</td>\n",
       "      <td>NaN</td>\n",
       "      <td>TRUE</td>\n",
       "      <td>Bracesco, Giovanni</td>\n",
       "      <td>NaN</td>\n",
       "      <td>...</td>\n",
       "      <td>Dialogue</td>\n",
       "      <td>alchemy</td>\n",
       "      <td>NaN</td>\n",
       "      <td>https://archive.org/details/dealchemiadialo00b...</td>\n",
       "      <td>IA</td>\n",
       "      <td>UCM</td>\n",
       "      <td>NaN</td>\n",
       "      <td>Ferguson 1906</td>\n",
       "      <td>NaN</td>\n",
       "      <td>Translation from Italian</td>\n",
       "    </tr>\n",
       "  </tbody>\n",
       "</table>\n",
       "<p>10 rows × 61 columns</p>\n",
       "</div>"
      ],
      "text/plain": [
       "Unnamed: 0                                      No. is_noscemus  \\\n",
       "Augurello, Chrysopoeia                       100001        TRUE   \n",
       "Pseudo-Lull, Secretis                        100002       FALSE   \n",
       "Pantheus, Ars Transmutatione                 100003       FALSE   \n",
       "Pantheus, Commentarium                       100004       FALSE   \n",
       "Pantheus, Voarchadumia                       100005       FALSE   \n",
       "Savonarola, De arte conficiendi aquam vitae  100006       FALSE   \n",
       "Anon, Rosarium philosophorum                 100007       FALSE   \n",
       "Severinus, Epistola                          100008       FALSE   \n",
       "Vegius, Inter inferiora corpora              100009       FALSE   \n",
       "Bracesco, De alchimia dialogi duo            100010       FALSE   \n",
       "\n",
       "Unnamed: 0                                  if_noscemus_id  \\\n",
       "Augurello, Chrysopoeia                              713324   \n",
       "Pseudo-Lull, Secretis                                  NaN   \n",
       "Pantheus, Ars Transmutatione                           NaN   \n",
       "Pantheus, Commentarium                                 NaN   \n",
       "Pantheus, Voarchadumia                                 NaN   \n",
       "Savonarola, De arte conficiendi aquam vitae            NaN   \n",
       "Anon, Rosarium philosophorum                           NaN   \n",
       "Severinus, Epistola                                    NaN   \n",
       "Vegius, Inter inferiora corpora                        NaN   \n",
       "Bracesco, De alchimia dialogi duo                      NaN   \n",
       "\n",
       "Unnamed: 0                                  #if is_noscemus = True, don't transcribe  \\\n",
       "Augurello, Chrysopoeia                                                           NaN   \n",
       "Pseudo-Lull, Secretis                                                            NaN   \n",
       "Pantheus, Ars Transmutatione                                                     NaN   \n",
       "Pantheus, Commentarium                                                           NaN   \n",
       "Pantheus, Voarchadumia                                                           NaN   \n",
       "Savonarola, De arte conficiendi aquam vitae                                      NaN   \n",
       "Anon, Rosarium philosophorum                                                     NaN   \n",
       "Severinus, Epistola                                                              NaN   \n",
       "Vegius, Inter inferiora corpora                                                  NaN   \n",
       "Bracesco, De alchimia dialogi duo                                                NaN   \n",
       "\n",
       "Unnamed: 0                                  AUTHORSHIP is_one_author  \\\n",
       "Augurello, Chrysopoeia                             NaN          TRUE   \n",
       "Pseudo-Lull, Secretis                              NaN          TRUE   \n",
       "Pantheus, Ars Transmutatione                       NaN          TRUE   \n",
       "Pantheus, Commentarium                             NaN          TRUE   \n",
       "Pantheus, Voarchadumia                             NaN          TRUE   \n",
       "Savonarola, De arte conficiendi aquam vitae        NaN          TRUE   \n",
       "Anon, Rosarium philosophorum                       NaN         FALSE   \n",
       "Severinus, Epistola                                NaN          TRUE   \n",
       "Vegius, Inter inferiora corpora                    NaN         FALSE   \n",
       "Bracesco, De alchimia dialogi duo                  NaN          TRUE   \n",
       "\n",
       "Unnamed: 0                                  #if more than 1 author skip section and choose compendium below  \\\n",
       "Augurello, Chrysopoeia                                                                     NaN                \n",
       "Pseudo-Lull, Secretis                                                                      NaN                \n",
       "Pantheus, Ars Transmutatione                                                               NaN                \n",
       "Pantheus, Commentarium                                                                     NaN                \n",
       "Pantheus, Voarchadumia                                                                     NaN                \n",
       "Savonarola, De arte conficiendi aquam vitae                                                NaN                \n",
       "Anon, Rosarium philosophorum                                                               NaN                \n",
       "Severinus, Epistola                                                                        NaN                \n",
       "Vegius, Inter inferiora corpora                                                            NaN                \n",
       "Bracesco, De alchimia dialogi duo                                                          NaN                \n",
       "\n",
       "Unnamed: 0                                  is_author_known  \\\n",
       "Augurello, Chrysopoeia                                 TRUE   \n",
       "Pseudo-Lull, Secretis                                  TRUE   \n",
       "Pantheus, Ars Transmutatione                           TRUE   \n",
       "Pantheus, Commentarium                                 TRUE   \n",
       "Pantheus, Voarchadumia                                 TRUE   \n",
       "Savonarola, De arte conficiendi aquam vitae            TRUE   \n",
       "Anon, Rosarium philosophorum                          FALSE   \n",
       "Severinus, Epistola                                    TRUE   \n",
       "Vegius, Inter inferiora corpora                       FALSE   \n",
       "Bracesco, De alchimia dialogi duo                      TRUE   \n",
       "\n",
       "Unnamed: 0                                                   author_name  \\\n",
       "Augurello, Chrysopoeia                       Augurelli, Giovanni Aurelio   \n",
       "Pseudo-Lull, Secretis                                        Pseudo-Lull   \n",
       "Pantheus, Ars Transmutatione                   Panteo, Giovanni Agostino   \n",
       "Pantheus, Commentarium                         Panteo, Giovanni Agostino   \n",
       "Pantheus, Voarchadumia                         Panteo, Giovanni Agostino   \n",
       "Savonarola, De arte conficiendi aquam vitae          Savonarola, Michele   \n",
       "Anon, Rosarium philosophorum                                         NaN   \n",
       "Severinus, Epistola                                    Severinus, Petrus   \n",
       "Vegius, Inter inferiora corpora                                      NaN   \n",
       "Bracesco, De alchimia dialogi duo                     Bracesco, Giovanni   \n",
       "\n",
       "Unnamed: 0                                  author_name_alternatives  ...  \\\n",
       "Augurello, Chrysopoeia                                    Augurellus  ...   \n",
       "Pseudo-Lull, Secretis                                            NaN  ...   \n",
       "Pantheus, Ars Transmutatione                                Pantheus  ...   \n",
       "Pantheus, Commentarium                                      Pantheus  ...   \n",
       "Pantheus, Voarchadumia                                      Pantheus  ...   \n",
       "Savonarola, De arte conficiendi aquam vitae                      NaN  ...   \n",
       "Anon, Rosarium philosophorum                                     NaN  ...   \n",
       "Severinus, Epistola                                   Peder Sorensen  ...   \n",
       "Vegius, Inter inferiora corpora                                  NaN  ...   \n",
       "Bracesco, De alchimia dialogi duo                                NaN  ...   \n",
       "\n",
       "Unnamed: 0                                                      genre  \\\n",
       "Augurello, Chrysopoeia                                  Didactic Poem   \n",
       "Pseudo-Lull, Secretis                                        Treatise   \n",
       "Pantheus, Ars Transmutatione                                 Treatise   \n",
       "Pantheus, Commentarium                                       Treatise   \n",
       "Pantheus, Voarchadumia                                       Treatise   \n",
       "Savonarola, De arte conficiendi aquam vitae                  Treatise   \n",
       "Anon, Rosarium philosophorum                                 treatise   \n",
       "Severinus, Epistola                                          treatise   \n",
       "Vegius, Inter inferiora corpora              Treatise, Dialogue, Play   \n",
       "Bracesco, De alchimia dialogi duo                            Dialogue   \n",
       "\n",
       "Unnamed: 0                                   subject SOURCE OF FILE  \\\n",
       "Augurello, Chrysopoeia                       alchemy            NaN   \n",
       "Pseudo-Lull, Secretis                            NaN            NaN   \n",
       "Pantheus, Ars Transmutatione                     NaN            NaN   \n",
       "Pantheus, Commentarium                       alchemy            NaN   \n",
       "Pantheus, Voarchadumia                           NaN            NaN   \n",
       "Savonarola, De arte conficiendi aquam vitae      NaN            NaN   \n",
       "Anon, Rosarium philosophorum                 alchemy            NaN   \n",
       "Severinus, Epistola                              NaN            NaN   \n",
       "Vegius, Inter inferiora corpora                  NaN            NaN   \n",
       "Bracesco, De alchimia dialogi duo            alchemy            NaN   \n",
       "\n",
       "Unnamed: 0                                                                                link  \\\n",
       "Augurello, Chrysopoeia                            https://wiki.uibk.ac.at/noscemus/Chrysopoeia   \n",
       "Pseudo-Lull, Secretis                        https://www.digitale-sammlungen.de/en/view/bsb...   \n",
       "Pantheus, Ars Transmutatione                                                               NaN   \n",
       "Pantheus, Commentarium                       https://www.digitale-sammlungen.de/en/view/bsb...   \n",
       "Pantheus, Voarchadumia                                                                     NaN   \n",
       "Savonarola, De arte conficiendi aquam vitae                https://onb.digital/result/1088C33C   \n",
       "Anon, Rosarium philosophorum                                                               NaN   \n",
       "Severinus, Epistola                                                                        NaN   \n",
       "Vegius, Inter inferiora corpora                             http://data.onb.ac.at/rep/1099703B   \n",
       "Bracesco, De alchimia dialogi duo            https://archive.org/details/dealchemiadialo00b...   \n",
       "\n",
       "Unnamed: 0                                  source_of_file origin_of_copy  \\\n",
       "Augurello, Chrysopoeia                            Noscemus        Unknown   \n",
       "Pseudo-Lull, Secretis                                  MDZ            MBS   \n",
       "Pantheus, Ars Transmutatione                            GB             BL   \n",
       "Pantheus, Commentarium                                 MDZ            MSB   \n",
       "Pantheus, Voarchadumia                                 ONB            ONB   \n",
       "Savonarola, De arte conficiendi aquam vitae            ONB            ONB   \n",
       "Anon, Rosarium philosophorum                            ER             ZZ   \n",
       "Severinus, Epistola                                    MDZ            MBS   \n",
       "Vegius, Inter inferiora corpora                        ONB            ONB   \n",
       "Bracesco, De alchimia dialogi duo                       IA            UCM   \n",
       "\n",
       "Unnamed: 0                                  REFERENCES catalogue_reference  \\\n",
       "Augurello, Chrysopoeia                             NaN       Noscemus Wiki   \n",
       "Pseudo-Lull, Secretis                              NaN         Hirsch 1950   \n",
       "Pantheus, Ars Transmutatione                       NaN                 NaN   \n",
       "Pantheus, Commentarium                             NaN                 NaN   \n",
       "Pantheus, Voarchadumia                             NaN                 NaN   \n",
       "Savonarola, De arte conficiendi aquam vitae        NaN         Hirsch 1950   \n",
       "Anon, Rosarium philosophorum                       NaN                 NaN   \n",
       "Severinus, Epistola                                NaN                 NaN   \n",
       "Vegius, Inter inferiora corpora                    NaN         Hirsch 1950   \n",
       "Bracesco, De alchimia dialogi duo                  NaN       Ferguson 1906   \n",
       "\n",
       "Unnamed: 0                                  secondary_references  \\\n",
       "Augurello, Chrysopoeia                              Soranzo 2019   \n",
       "Pseudo-Lull, Secretis                                        NaN   \n",
       "Pantheus, Ars Transmutatione                                 NaN   \n",
       "Pantheus, Commentarium                                       NaN   \n",
       "Pantheus, Voarchadumia                                       NaN   \n",
       "Savonarola, De arte conficiendi aquam vitae                  NaN   \n",
       "Anon, Rosarium philosophorum                                 NaN   \n",
       "Severinus, Epistola                                          NaN   \n",
       "Vegius, Inter inferiora corpora                              NaN   \n",
       "Bracesco, De alchimia dialogi duo                            NaN   \n",
       "\n",
       "Unnamed: 0                                                                    general_comments  \n",
       "Augurello, Chrysopoeia                              The 1518 Basel version is also in Noscemus  \n",
       "Pseudo-Lull, Secretis                        There is a prior, 1514 edition of De secretis ...  \n",
       "Pantheus, Ars Transmutatione                 This book was first published in 1518 with an ...  \n",
       "Pantheus, Commentarium                       This 1519 book is catalogued wrongly by many l...  \n",
       "Pantheus, Voarchadumia                               Dedicated to Leonellus Marquis of Estense  \n",
       "Savonarola, De arte conficiendi aquam vitae                                                NaN  \n",
       "Anon, Rosarium philosophorum                                                               NaN  \n",
       "Severinus, Epistola                                                                        NaN  \n",
       "Vegius, Inter inferiora corpora              This is the second edition, the first was publ...  \n",
       "Bracesco, De alchimia dialogi duo                                    Translation from Italian   \n",
       "\n",
       "[10 rows x 61 columns]"
      ]
     },
     "execution_count": 2,
     "metadata": {},
     "output_type": "execute_result"
    }
   ],
   "source": [
    "catalogue = pd.read_pickle(\"../data/catalogue.pickle\")\n",
    "catalogue.head(10)"
   ]
  },
  {
   "cell_type": "code",
   "execution_count": 109,
   "id": "3f0ad358411acac7",
   "metadata": {
    "ExecuteTime": {
     "end_time": "2024-05-16T12:56:22.962325Z",
     "start_time": "2024-05-16T12:56:22.958663Z"
    }
   },
   "outputs": [
    {
     "data": {
      "text/plain": [
       "{'100001': 'Augurello 1515',\n",
       " '100002': 'Pseudo-Lull Secretis 1518',\n",
       " '100003': 'Pantheus, Ars Transmutatione 1518',\n",
       " '100004': 'Pantheus, Commentarium 1519',\n",
       " '100005': 'Pantheus, Voarchadumia 1530',\n",
       " '100006': 'Savonarola 1 1532',\n",
       " '100007': 'Monteux 1533',\n",
       " '100008': 'Agricola, Galerazaya 1631',\n",
       " '100009': 'Vegius 1518',\n",
       " '100010': 'Bracesco 1548',\n",
       " '100011': 'De alchemia 1541 1541',\n",
       " '100012': 'Gessner Euonymus 1552',\n",
       " '100013': 'Ulstadt Coelum 1525',\n",
       " '100014': 'Toxites Spongia 1567',\n",
       " '100015': 'Gessner Euonymus II 1569',\n",
       " '100016': 'Bonus 1546',\n",
       " '100017': 'Bodenstein 1559',\n",
       " '100018': 'Trevisan 1567',\n",
       " '100019': 'Ulstadt De epidemia 1526',\n",
       " '100020': 'Dorn, Artificii chymistici 1569',\n",
       " '100021': 'Dorn, Clavis 1567',\n",
       " '100022': 'De alchimia opuscula  1550',\n",
       " '100023': 'Paracelsus, Labyrinthus 1553',\n",
       " '100024': 'Fanianus 1560',\n",
       " '100025': 'Pseudo-Lull, Codicillus 1563',\n",
       " '100026': 'Garlandius 1560',\n",
       " '100027': 'Morienus 1559',\n",
       " '100028': 'Pedemontanus 1563',\n",
       " '100029': 'Paracelsus, De vita longa 1560',\n",
       " '100030': 'Rupescissa 1561',\n",
       " '100031': 'Phaedro, De aquila 1562',\n",
       " '100032': 'Ventura 1571',\n",
       " '100033': 'Pseudo-Paracelsus, Centum quindecim curationes 1582',\n",
       " '100034': 'Penot, Bernard 1594',\n",
       " '100035': 'Dorn, Lapis metaphysicus 1570',\n",
       " '100036': 'Aegidius de Vadis 1595',\n",
       " '100037': 'Duchesne, Ad Iacobi Auberti 1575'}"
      ]
     },
     "execution_count": 109,
     "metadata": {},
     "output_type": "execute_result"
    }
   ],
   "source": [
    "id_label_dict = {}\n",
    "for id, index, year in zip(catalogue[\"No.\"], catalogue.index, catalogue[\"date_publication\"]):\n",
    "    id_label_dict[id] = index + \" \" + year\n",
    "id_label_dict"
   ]
  },
  {
   "cell_type": "code",
   "execution_count": 136,
   "id": "6ba62233c6c146a3",
   "metadata": {
    "ExecuteTime": {
     "end_time": "2024-05-16T13:18:03.652427Z",
     "start_time": "2024-05-16T13:18:03.554158Z"
    }
   },
   "outputs": [],
   "source": [
    "# Get all .txt files in the lemmatized_sents directory\n",
    "ids = []\n",
    "file_paths = glob.glob('../data/lemmatized_sents/*.txt')\n",
    "lemmata_all = []\n",
    "docs_lemmata = []\n",
    "for file_path in file_paths:\n",
    "    id = file_path.rpartition(\"/\")[2].partition(\".\")[0]\n",
    "    ids.append(id)\n",
    "    doc_lemmata = []\n",
    "    with open(file_path, 'r') as f:\n",
    "        lines = f.readlines()\n",
    "        # Now 'lines' is a list where each element is a line from the file.\n",
    "        for line in lines:\n",
    "            # Process each line (each lemmatized sentence) here\n",
    "            doc_lemmata.extend(line.strip().split())\n",
    "    docs_lemmata.append(\" \".join(doc_lemmata))\n",
    "    lemmata_all.extend(doc_lemmata)"
   ]
  },
  {
   "cell_type": "code",
   "execution_count": 136,
   "id": "a10b5e6228e0f98c",
   "metadata": {
    "ExecuteTime": {
     "end_time": "2024-05-16T13:18:04.231566Z",
     "start_time": "2024-05-16T13:18:04.228279Z"
    }
   },
   "outputs": [],
   "source": []
  },
  {
   "cell_type": "code",
   "execution_count": 137,
   "id": "7ff9b1d39e0d1d3a",
   "metadata": {
    "ExecuteTime": {
     "end_time": "2024-05-16T13:18:04.507002Z",
     "start_time": "2024-05-16T13:18:04.504188Z"
    }
   },
   "outputs": [
    {
     "data": {
      "text/plain": [
       "'Morienus 1559'"
      ]
     },
     "execution_count": 137,
     "metadata": {},
     "output_type": "execute_result"
    }
   ],
   "source": [
    "labels[0]"
   ]
  },
  {
   "cell_type": "code",
   "execution_count": 138,
   "id": "f1426bd6700f23dd",
   "metadata": {
    "ExecuteTime": {
     "end_time": "2024-05-16T13:18:04.928215Z",
     "start_time": "2024-05-16T13:18:04.916198Z"
    }
   },
   "outputs": [
    {
     "data": {
      "text/plain": [
       "[('suus', 119),\n",
       " ('dico', 104),\n",
       " ('omnis', 78),\n",
       " ('magisterium', 78),\n",
       " ('Rex', 65),\n",
       " ('unus', 65),\n",
       " ('multus', 58),\n",
       " ('res', 54),\n",
       " ('nomen', 49),\n",
       " ('deus', 48),\n",
       " ('corpus', 43),\n",
       " ('homo', 39),\n",
       " ('Morienus', 38),\n",
       " ('aio', 38),\n",
       " ('facio', 37),\n",
       " ('possum', 37),\n",
       " ('bonus', 35),\n",
       " ('Calid', 34),\n",
       " ('pars', 34),\n",
       " ('inuenio', 31),\n",
       " ('totus', 31),\n",
       " ('Metal', 31),\n",
       " ('sapiens', 31),\n",
       " ('Lib', 30),\n",
       " ('rex', 30),\n",
       " ('Transfigu', 29),\n",
       " ('ignis', 28),\n",
       " ('dispositio', 28),\n",
       " ('tuus', 27),\n",
       " ('magnus', 27),\n",
       " ('dies', 26),\n",
       " ('modus', 25),\n",
       " ('morienus', 25),\n",
       " ('scio', 25),\n",
       " ('liber', 23),\n",
       " ('scientia', 23),\n",
       " ('philosophus', 22),\n",
       " ('uir', 22),\n",
       " ('uerus', 22),\n",
       " ('meus', 22),\n",
       " ('uas', 22),\n",
       " ('noster', 21),\n",
       " ('color', 20),\n",
       " ('terra', 18),\n",
       " ('Roma', 17),\n",
       " ('aqua', 17),\n",
       " ('albus', 17),\n",
       " ('uideo', 16),\n",
       " ('primus', 16),\n",
       " ('natura', 16)]"
      ]
     },
     "execution_count": 138,
     "metadata": {},
     "output_type": "execute_result"
    }
   ],
   "source": [
    "nltk.FreqDist(docs_lemmata[0].split()).most_common(50)"
   ]
  },
  {
   "cell_type": "code",
   "execution_count": 133,
   "id": "37baec8d42800951",
   "metadata": {},
   "outputs": [
    {
     "data": {
      "text/plain": [
       "31"
      ]
     },
     "execution_count": 133,
     "metadata": {},
     "output_type": "execute_result"
    }
   ],
   "source": [
    "len(docs_lemmatata)"
   ]
  },
  {
   "cell_type": "code",
   "execution_count": 111,
   "id": "22562f171727c29d",
   "metadata": {
    "ExecuteTime": {
     "end_time": "2024-05-16T12:56:23.343804Z",
     "start_time": "2024-05-16T12:56:23.341271Z"
    }
   },
   "outputs": [
    {
     "data": {
      "text/plain": [
       "['Morienus 1559',\n",
       " 'Pseudo-Paracelsus, Centum quindecim curationes 1582',\n",
       " 'Ventura 1571',\n",
       " 'Garlandius 1560',\n",
       " 'Rupescissa 1561',\n",
       " 'Fanianus 1560',\n",
       " 'Trevisan 1567',\n",
       " 'Ulstadt De epidemia 1526',\n",
       " 'Pseudo-Lull, Codicillus 1563',\n",
       " 'Phaedro, De aquila 1562']"
      ]
     },
     "execution_count": 111,
     "metadata": {},
     "output_type": "execute_result"
    }
   ],
   "source": [
    "labels = [id_label_dict[id] for id in ids]\n",
    "labels[:10]"
   ]
  },
  {
   "cell_type": "code",
   "execution_count": 112,
   "id": "30b39f7b08c1b3b9",
   "metadata": {
    "ExecuteTime": {
     "end_time": "2024-05-16T12:56:23.531026Z",
     "start_time": "2024-05-16T12:56:23.526383Z"
    }
   },
   "outputs": [
    {
     "data": {
      "text/plain": [
       "667943"
      ]
     },
     "execution_count": 112,
     "metadata": {},
     "output_type": "execute_result"
    }
   ],
   "source": [
    "len(lemmata_all)"
   ]
  },
  {
   "cell_type": "code",
   "execution_count": 113,
   "id": "6b637825a0698ea2",
   "metadata": {
    "ExecuteTime": {
     "end_time": "2024-05-16T12:56:24.169342Z",
     "start_time": "2024-05-16T12:56:23.922966Z"
    }
   },
   "outputs": [
    {
     "data": {
      "text/plain": [
       "['aqua', 'facio', 'omnis', 'dico', 'possum']"
      ]
     },
     "execution_count": 113,
     "metadata": {},
     "output_type": "execute_result"
    }
   ],
   "source": [
    "vocab = [tup[0] for tup in nltk.FreqDist(lemmata_all).most_common(5000)]\n",
    "vocab[:5]"
   ]
  },
  {
   "cell_type": "code",
   "execution_count": 114,
   "id": "46e1dc614a96de9b",
   "metadata": {
    "ExecuteTime": {
     "end_time": "2024-05-16T12:56:24.174016Z",
     "start_time": "2024-05-16T12:56:24.170686Z"
    }
   },
   "outputs": [
    {
     "data": {
      "text/plain": [
       "5000"
      ]
     },
     "execution_count": 114,
     "metadata": {},
     "output_type": "execute_result"
    }
   ],
   "source": [
    "len(vocab)"
   ]
  },
  {
   "cell_type": "code",
   "execution_count": 115,
   "id": "53825ebb1bdafecf",
   "metadata": {
    "ExecuteTime": {
     "end_time": "2024-05-16T12:56:24.478820Z",
     "start_time": "2024-05-16T12:56:24.475629Z"
    }
   },
   "outputs": [
    {
     "data": {
      "text/plain": [
       "'morieni romanus eremitae hierosolymitanus transfiguratio metallum occulo summus antiquus philosophus medicinus libellus lux edo priuilegio parisiis gulielmus guillard uia iacobaea diui barbara signum lex regia cautus gulielmus guillard imprimo libellus morienus romanus transfiguratio metallorum impresdo diuendo finis regnum decennius candidus lectori salutem oculus tuus offero auriferus ars libellus paucus uisus multus optatus scriptores inferus aetas laudo locus proferrem breuitas studium ueto arabicus sermo latinus conuerto peruetustus exemplarium nacti alter interperno nomen praefero alter supprimo loquendi modus translator disssideo collatio deprehendio dextere uerbum latini morienus sententia aperio incertus hincocinna loquela multus intersum desideror otiosus reperio alioquus res congruo excipio locus scriba uitium deprauo castrensis conuersio paruus gratus emitto alter margo ascribo discrepantia ago res momentum faxit deus que labor fructuosus ualis irrisori sapientia omnes chrysopoeia liber diosus nullus discrimen rido gratia intempestiuus risus uideo desum causa obtendo chemia professor pecunia abundantia scriptor formulae ueritas desidero uniuersus nummus tracto numerus subduxo euoluisti omnis scribo authus eiusce artificium singulus sententia intellexio solertis experientia infido probo iustus derisor tuus circunspeco iudicium morienus romanus chemiso nugator inferus locus obtineo ignotus ratio dico licet nolo subscribo abditus morienus sensus dius placeo callis apertus sermo ostendo fallacia experimentor argumentum uis couinca praestiteo meritissimo approbo rideo paruus quao coniectura auguror sanitas eges audio morbus amplus facio anticyrus nauigo liber compositio alchymia edo morienus romanus calid regi aegiptiorum robertus castrensis arabico latinus transfero praefatio legimus historia ueterum autor philosophus hermes uoco primus enoch nomen hermes nomen uoco mercurius secundus noe nomen hermes nomen mercurius nuncupatus tertius hermes diluuium aegyptum regno regnum obtineo noster antecessor dico triplex trinus uirtus collectio dominus deus attribuo rex philosophus propheta hermes diluuium omnis ars disciplina liberalis mechanicus primus a. inuentor editor omnes suus iter incedo suus uestigium inhaereo nitor multus longus difficilis tantus magnus uir uirtus ornamentum actus inmemorias praesens reduco genus dico liber diuinus translatio suscipio noster ingo nius tenuitas studium scribo ocium explico sufficio nomen lib prologo introduximus liber primus inuenio edo liber diuinus totus diuinitas plenus tetestamento nouus con tineo uerus probatio liber studeo intellexerit ueritas testamentum uita modus sufficientia latus possum liber nomino liber compositio alchymia alchymia suus compo sitio noster cognosco latinitas nitas praesens sermo pono uer bus licet ignotus admirabilis disfinitio claresceo hermes uocabulum diffinio liber substantia mutatio alchymia substantia corporeus unus unus compono preciosus cognatio effectus coniungo naturalis comixtio genus bonus conuerto sequeet dico explano copositio plenus tracto licet tenue ingenium latinitas permodicus magnus opus transfero arabicus latinus suscipio singularis gratia deus modernus confero summus deus uiuus trinus exto unus gratis referio meus principium prologus taceo placeo noster labor assumo laus meritum proprius uendico humilis omnis rogo obsecro alchymia secro noster meus nomen mens liuor multus consuesco tabesco scit deus omnis suus confero gratia spiritus gratia procedo uolo inspiro gaudeo debeo omnis creator conditor omnis particularis suus monstro diuinitas totus lateo morieniromani eremitae hierosolimytanus sermo omnes philosophia pars mens hermetis diuinus attigo annus multus magisterium superior inuen tio editio studuo magisterium inuenio primus edido liber compono proprius deputo suus obitus suus discipulus haereditas derelinquo obitus discipulus liber praeceptum multus tempus studuo effectus adipiscor possum suus consequuueo effectus uarius innumerabilis dedo precipio facio adipiscor scientia uulgaris insipiens detego tempus sio noster iesus christus surgo homo iiorieni rom lib homo diuinus donum spiritualis praeditus diuinitas permultus tenpor studuo liber diuinus lib inuenio uir alexandria oriundus suus nomen adfar ale xandrinus uoco liber praefatus inuenio mens peruigilis industria studeo defino studo effectus scientia plenus adipiscor scientia uir diuinus multus uarius innumerabilis do praeceptum suus nomen uniuer noster regio pars diuulgo tempus urbs roma ro uir nomen scientia fama uolo peruenio tempus roma orior constituo eram iuuenis mentum primus lanugo nodus obduco studens doctrina christianus primus aetas gradus parens effectus totus latinitas detixo auditus uir nomen fama parens patria festinus m adfar alexandrinus transfigu metal festinus deseruo quies nimius meus artus exhibuio alexandria deuenissem ingredior ciuitas uicus callis nouus hospes incedior uir domus inuenissem domus inueni ingredior ingredior uir suus oratorium sedeo insuus liber studo iuueni oculus suus defico intueor aio amicus accedo accessi stramentum apposio consedo uir aetas decrepitus uultus strenuus facies statura corporisdecorus uultus omnis mens lateo intuentibus indico confabulor quaesiueo nomen nuncuparer oriundus meus uia causa exsisto respondeo dico morienus uocor natio romanus tuus nomen scientia fama parens patria discedo cogo subiungo fides tuus deus morienus roma lib deus cultor exeo respondeo fidem meus christianus profiteor christus cultor deus trinus unus adoro dico adfar bonus inuenio homo mundanus sepo inuenio propalabus totus diuinitas secretum omnis detego recusaui totus mens tuus uis intendo adesto facio totus meus disciplina filius dico nimius gaudium gauisus multus longum opus institutum singulus tractauo enumero dico remansi amabilis exhibuo totus diuinitas secretum deteo morior adfar obitus dies paucus alexandria recedior hierosolyma deueni finis eremum eligo uita meus fides professio habilis duco potuissum multus annus surrus xitquidam rex aegyptus nomen macoya gigno filius nomen gezid post. transfigu metal mors suus pater aegyptum regno regnum obtineo gezid gigno filia nomen calid mor- calid rexe tem pater aegyptus regno rex sapiens prudens uir omnis scientia perspicuus diligo multus sapiens philosophus disciplina communis liber scientia sino prouincia notus ignotus inquiro inuinio liber documentum reuelo possum amor compuldo multus sapientum philosophus retineo liber magisterium scio profiteor ignorao multus magnus ditao dona uerbum confisus dies eremum exsisto fama rex peregrinus defero audio eremum dimitto possum suus regio finis transmeauio diuitiae donum inquireo dilectus donum specialis instruo b suus morienus rom lib suus finis ingredior locus quamplurimus eundus lustrauis rex inuenio inuenissem contulo inueni magnus sapientia uir omnis uirtus ornamentum prudentissimus dixi bonus rex deus bonus conuerto uolo iubeo domus meus magisterium habilis praeparo iustto rex domus praeparo meus libitus orno introiuus domus exeo totus conpleuis magisterium completus domus appo uas pono uerbum depinxi omnes omnis habeo alienus auxilium indigeo scribo uerbum urbs omnis regio discedior meus eremus regredior rex domus dimiseram ingredior magisterium perfectus dimiseram inuenio intuo uideo uerbum circus uas scribo dimiseram perlego intellego absen transfigu metal tem defleueo omnis magisterium causa multus annus sui cum retinuerat iubeo caput amputo dixit rex aduocatus galip meus seruus fides galip mancipium lis galip suus captiuus fidelis suus pater gezid obitus suus uus calidis fidelitas do confidebat rex dico galip seruo nescio modus ago dixit galip rex dominus ego deus prouideo acturi tristatus rex multus credo dies nox condoluo fio annus rex dies locus dico dirmara ueno studium exeo nos galip captiuus homo solitudinus erro inuenisset terus exemplaris incerterrogo dico amice interprees uena uas cmitto homo respondeo hierosolimytanus deprehendio hierosolyma nascor multus annus mons hierosolimitani eremita conuerso moro audio modus morienus rom lib rex calid perquiro magisterium hermetis demonstro rex audio meus patria discedo regicalid nuntio scio homo magisterium doctissimus rego demonstro desydero aio galip tace frater taceo dico sufficio malo uiuo morior multus rex uenio magisterium scio profitor suus professio exitus peruenio possum rex interficio timeo sermo conspectus rex astiterum interficio homo aio nolo timeo conspectus rex uenio differo galipigitur dico placeo caueo morio adduxit galip hor mo statuo rex aio bonus rex homo morior metuo rex suus oculus defico intueor aio respondeo aio hierosolymitanus quiquus mons heremita transfigu metal conuerso audio multus tuus nomen bonitas fama quera sapiens doctus magisterium hermetis sen ostendissent ueni bonus rex meus acquiesco consilium tuus desyderii compos efficio scio uir mons hierosolymitanes habito omnis sapientia dominus deus reuelo suus fides deus homo iudico die suus eremum res quamplurimis tentaro contingo casus dico magisterium possum perficio audio suus ueritas cognosco confido omnis annus multus aurum argentum pondus uideram hierosolyma ciuitas transmitto sermo certus confe ro conspectus tuus assisteo multus magnus ditares donum tuus gratia separares rex aio sermo dico mens integer uenio morienus roma lib uenio persuadeo nescis nescio sermo interfectisunt dico opinor uerus multus ditareris donum meus gratia modus separaror uerus magnus scio subeo tormentum homo aio bonus rex promitto placatus meus acquiesco consilium rex aio homo qualitas uir bitus paucus confero uenio annus praetereo uir uerus confiteo magisterium perficio perfecisset res effego scientia dimitto clan secedo abeo homo aio uir aetas decrepitus statura magnus uultus facies praeclarus mos ornatus uita habitus deus displi ceo mons hierosolymitani eremita nomen multus scio desidero morienus romanus senex eremita nomino conuerto rex suus seruus galip dico homo transfigu metal homo condoluo dixit galip obone rex existimo gauisus rex multus credo possum homo accipio iustto rex homo donum do quamplurima historia abruus promitto morieni romanus narratiomagisterius hermetis adipiscor nis contexincipio sermo galip seruus captiuus res gis calid filius gezidus filius macoya persona galip captiuus paucus pergo dies homo reginuncio uenio homo sto rex aio orex bonus deus bonum couerto promiso differo aduocus tuus homo bonus accommodus cum uado reuerto grandis resto uia rex uultus placidus intueor aio dico fio iubeo rex aduoco stetissem dico galip serue bonus congrego omnis meus morienus roma lib meus bonus homo placeo elige uado reuerto dico grandis resto uia feci rex precipio paucus dies iter noster incepo hierosolyma iter incepo multus locum inuium desero eo multus dies consumpsimus hierosolyma deuenio solitudo mons erro fatigaror inuenio morienus romanus senex eremita uita suus duco ingredero inuenio uirus senex statura longus corpus macrum uultus facies precla situs habitus admiror totus asperitas cilicium induio rugosus existo dico homo sui cum adduco socius morienus romanus senex eremita intuerer agnouo agno pars rex calid salutauis transfigu metal audio nomen uir bonus subritto iubeo accedo gauisi laetus consedo interrogauit uir deus status noster rex status regnum nuntiaro uia noster causa propalauis conuerto aio gaudeo filius inueniso rex calid exopto uideo mirus creator potentia recognosco dies artus noster labor iter fatigo recreao redeo iter incepo noster patria regredior rex uinio uideo rex uir deus uidisset cognosco recipio aio galip serue bonus uir condolui uolo iter obuio edissero totus res suus principium ordo digedo agnouit rex uir deus adduxo sedeo facio dico senex uolo nomen tuus cucius morienus rom lib dialegus dico tuus professio modus pancalidus do alter uicis licet omorienus mnium inquiro tuus uerbum diffido uir deus respondeo morienus romanus uocor meus professio fides christianus meus religio habitus eremita rex aio omoriene transeo annus uita habitus eremita elegisti respondeo al hir annus mors herculis rex eremita incedo placatus mulreligio rex uir prudentia natura mo humilitas patientia uerienus recundia uenustas lingua uerbosus mens elo humilis prudens beneuolus utitalis deco dico rex omo riene nona conuo deus oro ecclesia consisto solus mons solitudinis habito morienus dico habeo meus rex bonum habeo sum expecto deus manus collocatus uolo transfigu metal uolo facio dubito conuentus coetus magnus inuenio requies solitudinus mons labor meto semino semino meto spero diuinitas bonitas uita mundus derelinquo requiei aditus coarcto possum ingredior anima afflictio dixit rex omnia dico uerus fidelis procedo animus falsus uideo dico rexquonia cultor idolum respondeo morienus profero uerus concedo animus procedo uerus ueridicus concedo necesse ueo uerus procedo falsus falsus aeternus aeternus transitorium transitorius bonum bonus malum dixit rex moriene multus tuus constantia tuus fides refero admiror uideo audio uerus c causa al ctor deus credo cedo morienus rom lib causa multus uideo audio exoptara uolo tractaturus documentum instruo edoceo dico morienus orex omnipotens deus bonus conuerto multus debeo admiror filius adam existo omnes unus procedo unus licet diuersus trames reuerto temporum longus mutatio homo tempus constituo confundo muto muto multus muto ultimus mutatio mors dirus subsequior nullus poena deterior iudico corpus anima coniunctio dissolutio poena omnis mors crudelior anima expecto omnipotens creator omnis creo formo noster auxilium dico rex moriene dicebo uideo existimo teuell derido transfigu metal opinio licet senex prudens uideao derido laudo posthaec aduoco rex dico galip serue bonus uado quaio homo domus pulchrus multus ornamentum orno uicinus palatium quaero homo suus fides professor doctus senex mos orno dico monitus consolor animus pax resideo deterreo confifeci rex dens praecipio rex uenio hora resideo alloquebatur conforto nihil suus magisterium interrogo magnus notitia creeo amor morienus rego credo confido interrogabat rex romanus lex tempus crementum lex muto regum consul consuetudo graecus historia morienus roma lib terrogo morienus omnis respondeo dilexit rex morienum dileco fio dies unus fabulor rex morieno dico senex omnis scito multus quaesiuus magisterium hermetis inuenio possum res uerus pandeo igi tur alter uicis noster finis discessisti litera uas pono magisterium scribo lego intellectus accepissem omnis scientia annus multus retinueram iubeo caput amputo rogo senex bonus omnis ratio uerus species substantia edisseras meus diuturnus expectatio compleo facio omnis possideo acquiro libo tuus patria unus reuertor nolo transfigu metal dubito tuus animus timor opinio confero morienus respondeo obone rex sapiens deus conuerto bonus intelligo mitto indigo multus mitto magisterium edoceo mirus deus uirtus demonstr timor paulo dico timeo despero omnis timuo ueritas perfectus sapiens timeo decet timuo despero despero animus uacilo suus intentio consequor effectus intelligo nimius amor amplecot uideo tuus inquisitio seuus mos actus pius patiens decet magisterium recondo celo tuus propono tuus longus inquisitio omnis peruinio no-- men morienus roma lib men dominus seculum seculus benedictus subritto rex aio scio omnis homo praesum patientia festinatio crudelis confundo festinatio pars diabolus nepos machoya al filius rex gezid motay tudo summus deus unus scrialtissimus dixit morienus boptum gesidum rex deus bonus conuerto filius modus iudicium magisterium scio macoya intelligo inue motay troitum exitus studeo memen pater calidus to omnis pertineo annuor dominus consequor res quaesiuo uis ira accipio perpetro accipior patientia humilitas amor certus perdonum deus fectissimus confero deus diuinus purus scientia suus fidelis seruus primaeuus res natura confero dispono suus mirabilis fortitudo suus fidelis confero decet transfigu metal praeuido committo detego res nihil iudico donum deus altus possum uolo uolo suus seruus fidelis committo monstro decet donum committo omnipotens deus omnis humilis subicio rex aio scio cognosco nullus res perfectio diuinitas auxilium demonstratio altus impermupostea aduoco rex tabilis dico galip serue bonus sedes tuus stilum omnis modus tractabimus memoria commo dico morienus omnipotes dominus omnis creator omnipotentia suus seruus impotens creo nequeum ordo transmuto nequeum postpono praepono praepono postpono scio possibilis nifis demonstratio consequor possum cond sequor obscuritas causa morieni rom lib sequor praeiudico retineo ualeo fortitudo summus deus collao admiror animus suus rego possum terminus deus constituo praeponit dominus suus seruus uolo eligo scientia diuinus deus delao quaero quaesio retineo scientia dominus suus abstraho mundus miseria scientia bonus futurus reduco tempus uer praetereo unus sapientia haereditao scientia anullo liber multus ueterum diuinus remannso contineo totus uerus mendacium inuenio effectus perduco nomen multus diuersus res attineo sapiens antiquioris imposio res ueritas cognoeo transfigu metal retineo noster antecessor magisterium nomen multiplico uario trado grauissimus sciens tium circumtego omnis ueridicus comprobo totus egisse arbitror stultus insipientia dico suus intelligeo magisterium dignus iudico dico inuenio studeo rectus modus intellego decet magisterium retraho debeo suus fides suus spes deoaltissimus configo efflagito diuinus admirabilis opus possum perpetro deus omnipotens auxilium imploro deus res bonus pulchrus modus conuerto facio magisterium scientia linea rectus omnis deuiatio adipiscor rex aio libet moriene dico mandatum dico sufficio retineo retentus possum obseruo morienus rom lib senex sapio magisterium propalo negligo planus exopto explanatio facilimus studium grauitas res confuudo primus exordium edisseras dico omnis ordo praeposterus noster disputatio abiicio morienus respondeo res ordo digisio edico uolo modus inquiro differo incipio interrogationes rex calid responsio morienus omnis totus efficacia magisterii hermetis consto comprobo alid rex moriene quaero libet res principalis substantia materia multus multus unus conficio morienus omnis res suus effectus dignosco multus testimonium transficus metal nio uerus comprobo antiquus testimonium praesens educo principalis substantia materia comprobao explico dico testimonium antiquus inspexo cognosco omnis unus conuenio omnis dico uerus profero interrogo accipio res primus principalis substantia materia unus unus facio addo minuo habeo interrogo testimonium antiquus educam omnis unus concordo iudico hercules rex sapiens philosophus suus interrogao dico magisterium unus radix procedo multus res expando unus reuerto scio recipio aer arsicanus philosophus aio al arsiquatuor elementum calor fri tanus gus humiditas siccitas unus fons prod cedo morienus roma lib cedo conficio radix radix compono radix aqua ignis compono terra aer arsicanus arsi maria noster inquam aqua notanus al azone stra terra habeo cal magus gna lucidus purus grossitia al dico alius.i aqua terra concreo hermes moyses aio terra mater elementum omnis terium procedo terra reuerto terra proce do hermes aio omnis reuerunus procedo meus magisterium to unus facio substantia materia dico hermes elemeta corpus humanus conomnis tineo deus creo sino distinunus cta coniungo colleo totus corpus diffundo unus corpus coniungo unus retineo efficio opus opus alter dissimilis licet unus corpus diuersus habeo color diuersus dominium modus magisterium intellego transfigu metal multus testimonium philosophus magisterium dixere sequor dico rex calid modus ratio facio possum magisterium unus radix unus substantia unus materia philosophus radix nomen multus multiplico inuenio morienus multiplicata radix nomen supradico rectus ordo inspexo unus radix substantia materia inuenio accipio antiquus testimonium resero rex calid perficio narro opus magisterium morienus hercules discipulus dico lapillus dactilis palma nutro palma suus lapillus radix multus ramulus concresco suus numerus multiplico augeo hermes aio respice rubeus completus rubeus suus rubedo diminuo omnis rubedo considera citrinus herbel al procreo morieni roma lib trinus completus citrinus suus citrinitas diminuo omnis citrinitas niger completus niger suus nigredo diminuo omnis nigredo spica granum procedo multus ramulus unus arbor exeo licet arbor iuo germen hortus assumo homo sapiens deus totus mundus dimitto exemplum consimilis adduco ait primus homo crea tio sperma unus grauo grauus procreo germen magnus concresco arbor unus homo mulier extraho multus filius filia color aspectus apparo nascor dissimilis sapiens dico considera sartor uestis sueo consuesco pannum interula uess compono pars diuersus nomen sortior considero pannum formo inuenio toralis manicus giro licet uestis pars transfigu metal diuersus habeo nomen principalis materia pannus pannum fila pars uestis unus iungo extraho pannus diuersus indigeo simili modus magisterium unus exsisto indigeo philosophus magisterium tectum absconsum nomen nomino sigillatum sapiens apertus sapiens magisterium quaero quaesitum inuenio inuenio amo orno stulti derideo paruus uerus nihilum reputo ignorant multus nomen sapiens nomino lib suus unus sperma uerto sanguis muto coagulo facio frustum caro commisceo modus facio unus alter creatura succedo homo fio necesse nomen nomene morienus rom lib palma color pomo color natura suus perfectio peruenio nomen arbor granatus triticum lac nomen quamplurima omnis unus radix diuersus effectus diuersus color diuersus natura nomen multus diuersus res impono heri alrai zartfm aio philosophus tem dico nihil magisterius actor error detrutto uarietas nomen multitudo cognosco nomen color coniunctio appareo magisterium uia deuio rfx calid inteligo delidero color paulo dico unus muto unus dispositio confectio multus muto morienus unus solus confectio species materia muto ignis color innouo pluri transfigu metal multus nomen impono dautin philosophus aio euticen ostendo sapiens magus sterium dispositio cofectio causa multiplicanuo sapiens magisterium instrueo insipiens excaecaro magisterium unus nomen habeo proprius deputo unus habeo dispositio unus uia linear modus licet sapiens nomen suus dico mutarunt nolo res unus intellego unamuius unus dispositio sufficio bonus rex inquiro perscrutor sapiens multus nomino confectio multus pondus multus color uulgus dico suus allegorizauero mentitus loquuti bonum uideo intellego etia lateo rex calid natura substantia dico sufficio rosinus euthesias aio assus al de rosinus danti dico euad euthe tices eutice resto firmus sia al facio albe dico abstulimus nigredidi salis anatron salis nisalis anatron sal gidus sicco fixio albedo natura dam interpretor color edisso nolo allegoria similitudo confero morienus mos sapio suus assus facio assos arabicus alumen interpretor facio tingeo obone rex sufficio profero antiquiorus reuertor testimonium exeplum desidero dico danti philosophus accipio ait noster latum primus rubeus inutilis rubedo albus uerto ualeo deus rosinus danti dico euad euthe tices eutice resto firmus credo sapiens mus albe dico abstulimus nigredidi salis anatron salis niter almizadir complexio sal gidus sicco fixio albedo inarabicio tincars dico dictum danti philosophus dictum hermetis compro transfigu metal bao dico hermes primus nigredo salis anatrum sequor albedo primus rubeus ultimus albus suus nigredo aufero uerto rubor lucidus clarus maria maria soror moysis dico laton allzequus alibric.i.sulphur comburo mollicies suus fero inuenio fundo feruor tollo balneum omnis obscuritas nigredo diciab aufero auru purus tur maria conuerto dautus philosophus aio laton sulphur comburo mollicies fundo natura bonum bonus auxilium deus conuerto dico purus laton decoquo oculus piscis elucesco utilitas expecto scio suus natura color reuertor dico abluo appareo abluo limpidus appareo suus color reuertor morienus roma lib to maria dico nihil latoen suus obscuritas suus pos*d aufero color azoc insus tegumentum primum decoquo coloro altur ar abus reddo dominor latons latoazoc uinum rubeus reddo nis philosophus aio dico azoc nequeo laton suus aufero color muto uisus laton azoc suus aufero substantialis albedo insum mirabilis fortitudo omnis color appareo color facio omabluo suus nigredo immunnis color ditium aufero albus appareo appareo laton dominor reddo rubicundum quoqne phi bausin losophus aio omnis res omnis tinctura andarsuus consimilis procedo adarmath simimach sapiens philosophus aio omnis res nomen similitudo nullus dictum antiquus negor uario intelligo transfigu metal go res principium suus finis testifico suus finis suus principium scio totus unus res habeo pater mater pater mater nutrio pasco suus pater mater modus differo al eupossit euticen dico thesia possum facio species suus genus tinbausin go dautin philosophus dico procedo reuertor rex calid lapis natura color disputo uero naturalis compositio tactus pondus gustus dissero morienus tactus lapis mollis magnus mollicies suus cor pus pondus multus grauis gustus dulcus natura aereus rex calid suus acer odor suus confectio morienus confectio grauis foetidus confectio al mutatas morieni roma lib sapiens dico aqua corpus morior tollo odor odor odor sepulchrum assimulo undeetia aio sapiens quicun que anima dealbo ascendo facio corpus custodio omnis obscuritas abstulerit odor extraxerit corpus pono possum hora coniunctio magnus miraculum appareo philosophus maria conuenisseo dico beata maria diuinus secretum occultus ornatus reuelatumt rex calid natura mutantes*id inferus ascendo ratio descendo unus alter coniungo misceo etiamus facio misceo uenio aqua benedictus adaquo rigo suus ordor foetidus mundo odor assimulo odor sepul transfigu metal sepulchror mortuus sepelio morienus res meritum nito philosophus azinabam ait osizanbe al marcon minis possum res appelal uffis dico res ulphus tust animal appello facio odor suauus bonus remaneo obscuritas foetor rex calid modus communis inquisitio sufficio quaero libet res uilis carus inuenio uerus respondeo morifnus dico sapiens al magisterium unus thur auripigmem solus res fio consuesco tuus anitus adhibeo cum confero neburo contradus combut t stio co scito sulpui zarneo duro auripigmentum comburo a7o combustio consumo azoc cum sustineo combustio omnes ebustio nim species ignis applicao consuro mo expecto boal.cito f morieni rom lib ignis combustio consumo ignis comburo carbo redigo scio conuenio gramen lapis magisterium conuenio considero possum res purus mundissimus dirigo tuus opus ineficax cesso sapientes disposuo dico quaero sterquilinium inuenus accipio sterquilinium inuenis tollo manus marsupium omnis res magnus emo precium artificium mendax inutilis reperio expositio locus sufficio caueo magisterium expendo completus expedium indigeo dau philosophus aio mendo species pondus expendo aurum magisterium aio quicun qui magisterium lapis quaesiuero assimilo uir scala gradus niteo ascendo nequinuo transfigu metal st spuum pston o suus facies pronus terra ai tine tteius eerurta decido rex calid ta2qaoio scu dico rarus inueq thin eiateo kaa 4skus no morienus cr 6utus sapiens dico diuis tadenus to rblj ra l. pauper largus aua eun ge eisn us sedeo uia ctpaio dt e. 4x proiicio sterquilinium suus calcaphd eth4 uta o multus sterquilinium fodo bee athu extraho deceli aal eteud sapiens res cognonuo res unus probaueo contineo elementum dominor rex calid locus minera quaero res inuenio mofixa deus creo rienus obmuto frons demitto que cogito rego possum respondeo tanfueo semdem erigo dico orex uerus inseparatus confiteor res diuinus nutus suus maneo creatio configitur omnis omnis deus creo persisto pocreatus?as teso rex calid explanandum res dico morienus aio disci o pulus hercylis morior f go luerlzel morieni lib gauo dico bonus magister sapio liber magisterium expositos suus filius discipulus dimitto praecamur migister magisterium expositio taceo antiquus obscurum relinquo propalo differo dico filius sapientia scio deus creator altus benedictus mundus elementum dissimil creo pono homo elementum magnus ornamentum rex calid adiungo dixisti explanatio morienus multus refero res extraho minus exeo inuenio confiteo accipio probaueo amor dilectio augebitur scio uerus indubitabilis permaneo rfx calid nouisti lapis lapis assimulo effectus potentia possum perpetro morienus transfigu metal nus nouus lapis lapis assimulo habeo effectus lapis contineo elementum assimulo mundus mundus compositio mundus lapis inuenio assimulo creatura natura quicun lapis magisterium quaesierit opus frustro addisco magisterium principium omnis error aufero radix praetereus quaero mutatio proficuus bonum quaesio possum inuenio moneo dico obseruo rex calid omoriene edisso qualitas dispositio deus noster auxilium morifnus dico antiquus trado interrogo directio confectio dispositio pars suus ordo f morienus roma lib ordo constituo praetermitto primus coitus secundus conceptio tertius praegnatio quartus orueo quintus nutrimentum coitus conceptio conceptio praegnatio praegnatio ortus modus sequor dispositio directio homo creatio assimulo omnipotens creator altus magnus nomen benedictus creo homo pars constitutiuus domus suus pars consto constitututiuum res homo constituo domus consto suus pars constitutiuus paries tectum fundamentum pars domus res inuenio dico homo consto creatura homo muto essentia res res bonus transeo uideo persisto homo creatio res inueo disto uideo procedo dieins dies transfigu metal dies mensis mensis creator altus magnus suus compleo creatura tempus certus dies diffinio licet elementum spermo creator deus pono tempus diffinitus compleo finio firmo fortitudo sapientia deus altus scio conuenio bonus rex magisterium nihil arcanum secretum secretum deus altus magnus secretum suus propheta commendo anima suus paradisus colloco sapiens suus expositio qualitas uasum conficio inuenissent magisterium perfectio peruenissent tuus commo memoria ostendi magisterium disto homo creatio dico animo putredo tiuitas creo cresco putre morienus roma lib putredo mutatio aio sapiens totus fortitudo magisterium putredo ait putridus fundus soluo possum soluo nihil reuertor rex calid putredo morienus putredo deuenio omnipotens deus omnis creator altus magnus perficio quaesio compositio scito magisterium binus indigeo creatio binus confectio connexae quado unus perficio alter incipo alter perficio totus magisterium termino rex calid indigeo magisterium binus creatio binus confectio dixisses res uia unus linearis persisto morienus uerum dico totus magisterium res unus uia unus consto unus dispositio alter rex transfigu metal rex calid dispositio dico totus possum perficio magisterium morienus orex bonus deus bonus conuerto dispositio manus perficio possum difficultas quamplures sapiens quaestus dixerunt suus scientia dispositio inuanio totus magisterium suus scientia perpetro suamscientia inuanio totus magisterium lateo rex calid admirabilis dispositio morienus sapientum dico inspeco scio possum dico dispositio natura mutatio natura calidus humidus frigidus siccus subtilis dispositio admirabilis commixtio rex calid dispositio homo facio manus res quaperfex possum morienus dispositio facio aio sapiens g morieni rom lib dico azoc ignis latones abluo mundifico obscuritas eripio sapiens aio ignis modus disposuero azoc ignis dispositio do deus sufficio albus interfector aio dealbate lato liber rumpio cor uester corrumpo rex calid dispositio putredo morienus dispositio putredo praecedo dispositio nullus rex calid morienus tota operatio noster extra4040 ctio aqua terra aqua terra dimissio terra putresco terra aqua putrescio mundifico mundo auxilium diuinitas totus magisterium dirigo sapiens dispositio tertius pars totus magisterium scio conuenio corpus immundus mundaueo desiccaueo dealbatum reddideo anima transfigu metal misor omnis foetor abstuleris suus mundificatio tinctura decido nihil magisterium direxisti scio decet anima corpus suus ingredior corpus alienus coniungo rex calid creator noster auxilium secundus dispositio edisso finis prior dispositio morienus dico corpus immundus dico direxior mitto fermentum quartus pars fermentum aurum aurum panis fermentum panis mitto depono sol decoquo corpus redigo deus benedictio abluo incipio ablutio pars unus res mortiferus accipio dies decoquus caueo suus dies obliuiscaris minuo ignis ardeo hgc ignis medietas quartus suus coctura redigo acir morieni lib inualesco debilus exsisto ignis blandus mitis suus dies ardeo aequalis perduro magnus sequor damnum xuius nox uas omnis coquo uises aqua inuenio extraho alter impono uicis ago uas praedico fornacis suus adhaereo totus tempus fermentatio aurum compleo octauus pars suus tinctura dirigo nox extrago desicco arabice nuncupo corpus ablutus praeparo accipio fornax artificius adaptes suus uas quartus pars res mortiferus habeo irrigo cauo flamma ignis praefatus uas attingo damnum omnis uerto omnis edictum praedico uas fornax magnus artificius loco ignis os accendo transfigu metal cendo dies nox aequalis augs mentum diminutio ardeo omnis expleo fornax omnis tollo auxilium deus expleo ars iteratio rfx modus dico ago nomen dominus benedictus morienus orex bonus scio oportet omnis magisterium perfectio captura corpus coniunctus concordo consto corpus naturalis artificium coniungo concordo fundo recipio semetipsus emendo dirigo fortitudo ignis pulchrus appareo inquisitor sapientia corpus captura decantatio solutio dispositio necessarius mixtio decoctio cognosco scio ignis quantitas suus fornax constitutio suus ignis accensio morienus roma lib sio locus fornax accendo debeo ignis numerus dies suus pondus mensura omnis prouidentia ratio tracto auxilium diuinitas impleo intentio omnis festinatio artifex pello prouidentia ratio firmus expectatio adhibeo corpus ma*al coapto sanguis uiuifico coniungo omnis ignis corpus efficio ignis blandus appono debeo suus dies duro aequalis calor ignis corpus serpo festino bustio corpus consumo fex eudicus appono corpus teruiter ra muto omnis combustio curo corpus suus retineo nima comburo eudica omnis corpus con uenio uiuifico apto omnis combustio defendo immitto immitto nimius calor defendo transfigu metal eudicus quaero uolo uitreus uasum quaere inuenus recondo facio expecta acidus facio azima exsisto tuus intentio cassaro terra foetidus recipio alba scintilla ueto sanguis decoctio damno uis sanguis fortitudo magnus quamobrem sanguis frango impedio proficio fractio facio dealbatum color remaneo nigredo occupo color inquam uena effusa nouus magisterium pertineo initium ueritas uideo fallax inutilis magisterium secretum unus collego collectus expono res pars unus pars argentum aurum purus conuerto dico magisterium sufficio resto repello possum al minera al mal gra morieni roma lib scio conuenio intentio homo scientia diuinus purus quaero arbitror decet donum deus altus magnus suus commendo nomen benedictus bonus rex totus mens audio intelligo modus dico rex calid dic libet ericio auris assistus praesens morienus dico nomen species obone rex primus telio scio decet fumus rubeus fumus citrinus fumus albus leo uiridis almagra mors immunditia limpidus sanguis eudica terra foetidus totus magist consto efficacia tracto possum rex calid explana nomen morifnus finis liber expono praesens nomen magisterium conficio dico res effectus comprobo scientia radix transfigu metal do uolo doctrina magister suscipio magister discipulus suus pertracto scientia uena quaero inuenio operor uideo opero magisterium quaero facio erro multus scientia obstaculum aio sapiens multus distantia sapiens inssipiens caecus uidens dispositio magisterium probatio coignoueo inquisitio liber persisto lliber figura ars compositum pars magnus obscurus uideo scientia connexa suus comspositor possum intellego scientia inquio debeo admirabilis peruenio possum rex calid omnis profero h uerus al mundo al.induresco alum facio purgatio morieni rom lib uerus liquo ueritas suus expositio florescio allucesco ekincipio dispositio sapientum aptatio corpus immundus elixir durus effectus pono albus efficio anima mitto icit morienus elixir corpus mundificatum foetidus tinctura introeo formosus appareo recipio primus dispositio incipe deus auxilium primus fumus rubeus fumus albus capio ambus effundo coniungo commixtio par pondus appono commixta uas spissus mensura unus libra pono os bitumen obtundo uentum uas transfigu metal ras detens euado magisterium anihilabitur bitumen liber philosophus lutum appello conclusio modicus sal apponas confirmo ignis combustio possum resisto fornax calefacio calefago uas exemplaris praedico omnis conaddo tineo sublimo sublimastercor ouus tio sol occasus facio folium oliuadies frigesco dimitto uas ipuus extraho confringo sial subea posuero corpus humatio modus lapis commisceo inuenis subbumo cipio to caraquus facio uas fundus rotundus accipio tritus tantarilatus pono os uasum bitumen philosophus claudo fornax philosophus construo ignis philosophicus mos philosophus accendo spatium xxi dies aequalis perduro exardo ignis philosophicus h morienus rom lib sophicus materia binapartitio partior materia stercus ouinus compono folium oliua nihil ignem combustio aequalis facio perduro bonus dies praedico transaco praefatus uas fornax extraho inuenis exsicca unus pars accipio pars mundo commisceo unus pars mundo assumo decimus pars mundus misceo ordo numerus alter appono unus misceo commixta facio elixir dissipa albus remaneo firmo ignis adustio recessus inuenus pars magisterium expleuisti modus albus immundus coniungo modus inuenio anima corpus suus ingredior alienus corpus coniungo studuor laboro transfigu metal laboro ueritas lucidus rex calid omnis dico uerus uideo deus anima suus propheta manus suus recipio pincipio dispositioralas ceseid susecundus dico morienus romanus pra gexid calid rex filius egezid appello filius madoya habeo al mochala morienus sumo fumus mabus leo uiridis almagra coia dico rubeus immundicius mortuus omnis dissolue dissoluo facio ascendo ascensio unus coniungo unus pars uiridis leo pars immunditia mortuus appono fumus albus facio pars almagra uas uiridus omnis pono coquo os uasum praedico claudo sol pono desicco desicco morieni roma lib sicco elixir appono pono aqua sanguis nato dies nox rigo aqua foetidus cauendo suus dies minuo suus ignis extinguo ardo inualesco minuo adustio minuo transactis xuius nox praedico uas aperio aqua inuenus extraho alter foetidus aqua repono nox ago cauo uas suus fornax remoueo appositio uerus aqua foetidae noctis fio transaco nox uas fornax extraho elixir eofo desicco corpus albus sumo albus fixisti pono uas paruus quantitas fornax magisterium construxeo facio uas fornacis coniungo flamma ignis comburo contingo elixir dico transfigu metal mus debeo proiicio albus proieceo elixir corpus pars pars xi proiicio commixta corpus commisceo uncia quartus pars drag mo eudicus proiicio facio magnus fornace uas pono dies nox dimitto caput ignis dies nox extinguo dies nox completis uas inuenus extraho lauda creator altus magnus tribuo incipit expositio species morienus orex bonus d expositio species magisterium pertineo antecessor noster multus diuersus nomen nomino magisterium quaero ueritas errao morieni roma lib o scito immundus corpus plumbus nomen affrop interpretor corpus mundus stannum nomen alnaus nuncupo leo uiridis luech almagra laton licet al amal gra terra rubeus diceo sanguis auripigmentum terra foetidus sulphur foetidus eudica omnis secretum nomen mosz hacumia dico fex uiter uiter immundicium dico possum fumus ruduo beus auripigmentum rubeus fumus nus citriquo albus argentum uiuus funus citrinus sulphur citrinus rubeus nomen specieru exprimo totus magisterium sufficio fumus albus leo uiridis aqua foetidus habes species suus confectio dico detego finis stultus magisterium quaero quaero erro effectus peruenio sol luna unus transficus metal corpus redigo deipraeceptus euenio possum existimant secretum magisterium terra lapis autuinus sanguis urina acetum omnis nto coquo suus decoctio extraho extraco sepelio opinio suus facio credo suus error conforto despero quaero inuenio scio terra lapis omnis magisterium inutilis malum exitus habeo scio conuenio magnus ops res efficacia suus ignis perpendo minerius apto malus anima suus corpus retineo ignis totus natura res natura perfectus probatio magisterium effecor prin cipio unus inuenus inutilis bonum spero possum res facio mundus conficio unus corpus redigo dico al al morieni lib dico tractaueo auxilium deus tuus compleo intentio dico intellige intellego tuus como memoria suus ordo dispositio dispositio stude frequens studium uia rectus ostendo scio magnus radix ops res inquisitio species bonus magisterium minus multus genus defumo album interrogo scio conuenio fumus albus tinctura anima corpus solutus morior anima extraximus suus corpus coniunxo omnis corpus anima careo tenebrosus obscurum fumus albus corpus anima defluo nigredo immundicius aufero corpus unus consolideo aqua multiplico immundus niger al maltiplico multus leuis suaaufero transfigu metal aufero nigredo suus albedo conforto suus aqua multiplico suus pulchritudo appareo tinctura apparo multus omnis tracto tinctura operor exeo aurum purus rubicundum nullus bonus purus inuenio possum causa aurum aurum ethees romanus soleo appello scio uolo fumus albus aurum ethees alchymia purus utilis perpetro possum magisterium capitulum totus suus directio alchymia conficio unus pars pars argentum pono totus aurum purus couerto deus benedictus amen seculus seculum explicit liber alchymia arabico latinus translatus annus millesimus centesimus octuagesimo secundus mensis februarii dies undecimus operor al pars g solue gela robertus uallensis rugl spiritus insum sumo corpus sectio seiunctis faecus ars leuis faecibus terra demitto ignis benignus aspersis intus elixir habeo'"
      ]
     },
     "execution_count": 115,
     "metadata": {},
     "output_type": "execute_result"
    }
   ],
   "source": [
    "docs_lemmata[0]"
   ]
  },
  {
   "cell_type": "code",
   "execution_count": 122,
   "id": "af8b908e3ce3f689",
   "metadata": {
    "ExecuteTime": {
     "end_time": "2024-05-16T12:56:38.763139Z",
     "start_time": "2024-05-16T12:56:38.542329Z"
    }
   },
   "outputs": [
    {
     "name": "stdout",
     "output_type": "stream",
     "text": [
      "Shape of X : (31, 5000)\n"
     ]
    }
   ],
   "source": [
    "# Create the vectorizer\n",
    "vectorizer = TfidfVectorizer(vocabulary=vocab)\n",
    "\n",
    "# Apply the vectorizer\n",
    "X = vectorizer.fit_transform(docs_lemmata)\n",
    "\n",
    "# Getting the shape of X\n",
    "print(\"Shape of X :\", X.shape)\n",
    "\n",
    "# Getting the TF-IDF matrix\n",
    "tf_idf_matrix = X.toarray()"
   ]
  },
  {
   "cell_type": "code",
   "execution_count": 123,
   "id": "3f39128e5ff65ecb",
   "metadata": {
    "ExecuteTime": {
     "end_time": "2024-05-16T12:56:41.079168Z",
     "start_time": "2024-05-16T12:56:40.378290Z"
    }
   },
   "outputs": [],
   "source": [
    "from sklearn.manifold import TSNE\n",
    "import matplotlib.pyplot as plt\n",
    "\n",
    "# Run t-SNE\n",
    "tsne = TSNE(n_components=2, metric='cosine')  # Use 'cosine' as the distance metric\n",
    "X_embedded = tsne.fit_transform(X.toarray())  # Convert sparse matrix X to dense"
   ]
  },
  {
   "cell_type": "code",
   "execution_count": 124,
   "id": "7d1c4360cf24a458",
   "metadata": {
    "ExecuteTime": {
     "end_time": "2024-05-16T12:56:41.302490Z",
     "start_time": "2024-05-16T12:56:41.080238Z"
    }
   },
   "outputs": [
    {
     "data": {
      "text/plain": [
       "(3.2634021520614622,\n",
       " 3.3790972948074343,\n",
       " 0.20349040850996972,\n",
       " 0.30338437631726267)"
      ]
     },
     "execution_count": 124,
     "metadata": {},
     "output_type": "execute_result"
    },
    {
     "data": {
      "image/png": "[encoded data removed]",
      "text/plain": [
       "<Figure size 1000x1000 with 1 Axes>"
      ]
     },
     "metadata": {},
     "output_type": "display_data"
    }
   ],
   "source": [
    "fig, ax = plt.subplots(figsize=(10, 10), tight_layout=True)\n",
    "# Plot the results\n",
    "ax.scatter(X_embedded[:, 0], X_embedded[:, 1])\n",
    "\n",
    "for i, label in enumerate(labels):\n",
    "    ax.annotate(label, (X_embedded[i, 0], X_embedded[i, 1]))\n",
    "\n",
    "\n",
    "ax.axis('off')  # Hide axis"
   ]
  },
  {
   "cell_type": "code",
   "execution_count": 125,
   "id": "329ec5c30f709fef",
   "metadata": {
    "ExecuteTime": {
     "end_time": "2024-05-16T12:59:38.752577Z",
     "start_time": "2024-05-16T12:59:38.662778Z"
    }
   },
   "outputs": [],
   "source": [
    "fig.savefig('../figures/tsne_tfidf_v1.png')"
   ]
  },
  {
   "cell_type": "code",
   "execution_count": null,
   "id": "3df412f21d2f8b4",
   "metadata": {},
   "outputs": [],
   "source": []
  }
 ],
 "metadata": {
  "kernelspec": {
   "display_name": "latin_global_kernel",
   "language": "python",
   "name": "latin_global_kernel"
  },
  "language_info": {
   "codemirror_mode": {
    "name": "ipython",
    "version": 3
   },
   "file_extension": ".py",
   "mimetype": "text/x-python",
   "name": "python",
   "nbconvert_exporter": "python",
   "pygments_lexer": "ipython3",
   "version": "3.10.12"
  }
 },
 "nbformat": 4,
 "nbformat_minor": 5
}
